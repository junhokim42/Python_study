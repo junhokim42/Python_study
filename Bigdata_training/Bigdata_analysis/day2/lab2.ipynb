{
 "cells": [
  {
   "cell_type": "code",
   "execution_count": 113,
   "metadata": {},
   "outputs": [
    {
     "name": "stdout",
     "output_type": "stream",
     "text": [
      "[<h1>태그의 컨텐츠] HTML의 링크 태그\n",
      "\n",
      "[텍스트 형식으로 내용을 가지고 있는 <a>태그의 컨텐츠와 href 속성값]\n",
      "World Wide Consortium : http://www.w3.org/\n",
      "Java Page : http://java.sun.com/\n",
      "Python Page : http://www.python.org/\n",
      "Web Client 기술 학습 : http://www.w3schools.com/\n",
      "\n",
      "[<img>태그의 src 속성값] http://unico2013.dothome.co.kr/image/duke.jpg\n",
      "\n",
      "[첫 번째 <h2> 태그의 컨텐츠] 좋아하는 색\n",
      "\n",
      "[<ul> 태그의 자식 태그들 중 style 속성값 green으로 끝나는 태그의 컨텐츠]\n",
      "녹색\n",
      "\n",
      "[두 번째 <h2> 태그의 컨텐츠] 먹고싶은 음식\n",
      "\n",
      "[<ol> 태그의 모든 자식 태그들의 컨텐츠] \n",
      "짜장면\n",
      "냉면\n",
      "돈까스\n",
      "갈비\n",
      "\n",
      "[<table> 태그의 모든 자손 태그 컨텐츠] \n",
      "둘리또치도우너\n",
      "케라토사우루스타조외계인\n",
      "도봉구 쌍문동아프리카깐따삐아 별\n",
      "\n",
      "[name이라는 클래스 속성을 갖는 <tr> 태그의 컨텐츠] 둘리또치도우너\n",
      "\n",
      "[target이라는 아이디 속성을 갖는 <td> 태그의 컨텐츠] 아프리카\n"
     ]
    }
   ],
   "source": [
    "import requests\n",
    "from bs4 import BeautifulSoup\n",
    "import re\n",
    "\n",
    "req = requests.get('http://unico2013.dothome.co.kr/crawling/exercise_bs.html')\n",
    "html = req.content\n",
    "html = html.decode('utf-8')\n",
    "bs = BeautifulSoup(html, 'html.parser')\n",
    "\n",
    "title = bs.find('h1')\n",
    "print(\"[<h1>태그의 컨텐츠] %s\" %title.text)\n",
    "print()\n",
    "\n",
    "href_link = bs.select('a')\n",
    "print(\"[텍스트 형식으로 내용을 가지고 있는 <a>태그의 컨텐츠와 href 속성값]\")\n",
    "for content in href_link:\n",
    "    if content.get_text(strip = True):\n",
    "        print(content.text + \" : \" + content[\"href\"])\n",
    "print()\n",
    "\n",
    "src_link = bs.img['src']\n",
    "print(\"[<img>태그의 src 속성값] \" + src_link)\n",
    "print()\n",
    "\n",
    "title2 = bs.select_one('h2')\n",
    "print(\"[첫 번째 <h2> 태그의 컨텐츠] %s\" %title2.text)\n",
    "print()\n",
    "\n",
    "content = bs.find('li', attrs = {'style': re.compile('green$')}).text\n",
    "# ul_tag = bs.select('ul > [style]')\n",
    "print(\"[<ul> 태그의 자식 태그들 중 style 속성값 green으로 끝나는 태그의 컨텐츠]\")\n",
    "print(content)\n",
    "print()\n",
    "\n",
    "print(\"[두 번째 <h2> 태그의 컨텐츠]\", bs.select(\"h2:nth-of-type(2)\")[0].string)\n",
    "print()\n",
    "\n",
    "print(\"[<ol> 태그의 모든 자식 태그들의 컨텐츠]\", bs.ol.text)\n",
    "\n",
    "print(\"[<table> 태그의 모든 자손 태그 컨텐츠]\", bs.table.text)\n",
    "\n",
    "content = bs.find('tr', class_ = 'name')\n",
    "print(\"[name이라는 클래스 속성을 갖는 <tr> 태그의 컨텐츠]\", content.text)\n",
    "print()\n",
    "\n",
    "print(\"[target이라는 아이디 속성을 갖는 <td> 태그의 컨텐츠]\", bs.find('td', attrs={\"id\":\"target\"}).text)"
   ]
  }
 ],
 "metadata": {
  "kernelspec": {
   "display_name": "Python 3.10.8 64-bit (microsoft store)",
   "language": "python",
   "name": "python3"
  },
  "language_info": {
   "codemirror_mode": {
    "name": "ipython",
    "version": 3
   },
   "file_extension": ".py",
   "mimetype": "text/x-python",
   "name": "python",
   "nbconvert_exporter": "python",
   "pygments_lexer": "ipython3",
   "version": "3.10.8"
  },
  "orig_nbformat": 4,
  "vscode": {
   "interpreter": {
    "hash": "34cedc79af05b422fdf29f99b117d39538396108f2fa338b8979780fbc124c5c"
   }
  }
 },
 "nbformat": 4,
 "nbformat_minor": 2
}

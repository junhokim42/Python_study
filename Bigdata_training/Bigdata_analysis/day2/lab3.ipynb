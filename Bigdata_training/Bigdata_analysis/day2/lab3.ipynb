{
 "cells": [
  {
   "cell_type": "code",
   "execution_count": 10,
   "metadata": {},
   "outputs": [
    {
     "name": "stdout",
     "output_type": "stream",
     "text": [
      "기사 제목\n",
      "[\"'땅콩회항' 조현아, 남편에 13억 재산분할…결혼 12년만 이혼\", \"이재용 회장 '뉴(NEW) 삼성' 비전 발표 촉각\", \"'세월호 지원금' 줬더니 친북 교육…감사원, 안산시 감사 착수\", '젤렌스키 \"서방으로부터 푸틴이 협상 원한다는 신호 전해 받았다\"', \"검찰, '서해 피격' 관련 국방부·통일부 등 추가 압수수색\", '코스피, 1.39% 하락 2442선 마감…코스닥 0.75%↓(2보)', '윤 대통령-빈 살만 사우디 왕세자 회담…“‘네옴 프로젝트’ 참여 합의”', '\\'이재명 최측근\\' 정진상 엄호 나선 野 \"檢, 정치수사로 인간사냥\"', '‘당일치기’로 방한한 빈 살만...철통보안 속에 외부노출 최소화', '尹, 빈 살만과 한남동 관저서 회담...\"에너지·방산·인프라 협력 강화\"', '윤 대통령, 빈 살만 만나 “양국 관계 도약할 적기”…한남동 관저 첫 손님', '“‘불수능’ 아니지만 ‘물수능’도 아니다”…국어·수학, 변별력 여전', '\"전력거래가 상한제는 신재생에너지 말살 정책\"', '장현국 \"FTX 사태는 가상자산 산업 문제 아닌 내부 통제 실패\"', '서민대출 이어가도록…금융위, 우수 대부업 제도 개선', '코로나 2회 감염자 치명률, 1회 감염자보다 낮아', \"고팍스, 가상화폐 예치 서비스 출금 지연‥'FTX 사태 불똥'\", '[과학을읽다]\"50년 전 달에 갔다면서 웬 호들갑\"이냐구?', \"방통위 두달만의 압수수색에 긴장 고조…수사 진전여부 '촉각'\", '[수능 수학영역] \"작년만큼 어려웠다\"… 최상위권 변별력은 떨어질 듯', '“자기야, 아프지 마” 연금 생활자 울리는 두가지 복병', '尹 \"네옴시티 참여 기대\"…빈 살만 \"에너지·방산·건설 협력 강화\"', '[저녁잇슈] 2022년 11월 17일 목요일', '‘시장 천국’ 전도사들의 성공과 추락', \"[용산M부스] MBC 기자들의 '민항기' 취재기 - 시험대 오른 대통령의 언론관\", '尹 대통령 지지율, 16%까지 곤두박질 ‘주요국 꼴찌’…非지지 최고 81% [나우,어스]', '[맛있는 뉴스 한상] 돌봄에도 자격이 필요하다', '“생리 중에 임신 가능할까?”…생리주기 계산법 [황수경의 건강칼럼]', '마크롱과 프랑스 외교팀, 쁘라윳 태국 총리 측과 기념 촬영', '생각에 잠긴 시진핑 중국 국가주석', '수능 1교시 결시율 10.8%…45만477명 응시', '\"메리 크리스마스\" 서울광장에 설치된 크리스마스 트리']\n",
      "기사 카테고리\n",
      "['사회', 'IT', '사회', '국제', '사회', '경제', '정치', '정치', '경제', '정치', '정치', '사회', '경제', 'IT', '경제', '문화', '경제', 'IT', '정치', '사회']\n"
     ]
    }
   ],
   "source": [
    "import requests\n",
    "from bs4 import BeautifulSoup\n",
    "import re\n",
    "req = requests.get('http://news.daum.net')\n",
    "html = req.text\n",
    "soup = BeautifulSoup(html, 'html.parser')\n",
    "\n",
    "titles = soup.select('div > div > strong > a')\n",
    "\n",
    "categories = soup.select('div > div > span > span.txt_category')\n",
    "\n",
    "news_title = []\n",
    "news_category = []\n",
    "\n",
    "\n",
    "for dom in titles:\n",
    "    text = re.sub(\"[\\n]\", '', dom.get_text(strip=True))\n",
    "    news_title.append(text)\n",
    "    \n",
    "for dom in categories:\n",
    "    news_category.append(dom.text)\n",
    "\n",
    "print(\"기사 제목\")\n",
    "print(news_title)\n",
    "print(\"기사 카테고리\")\n",
    "print(news_category)  "
   ]
  }
 ],
 "metadata": {
  "kernelspec": {
   "display_name": "Python 3.10.8 64-bit (microsoft store)",
   "language": "python",
   "name": "python3"
  },
  "language_info": {
   "codemirror_mode": {
    "name": "ipython",
    "version": 3
   },
   "file_extension": ".py",
   "mimetype": "text/x-python",
   "name": "python",
   "nbconvert_exporter": "python",
   "pygments_lexer": "ipython3",
   "version": "3.10.9 (tags/v3.10.9:1dd9be6, Dec  6 2022, 20:01:21) [MSC v.1934 64 bit (AMD64)]"
  },
  "orig_nbformat": 4,
  "vscode": {
   "interpreter": {
    "hash": "34cedc79af05b422fdf29f99b117d39538396108f2fa338b8979780fbc124c5c"
   }
  }
 },
 "nbformat": 4,
 "nbformat_minor": 2
}

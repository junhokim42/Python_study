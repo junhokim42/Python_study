{
 "cells": [
  {
   "cell_type": "code",
   "execution_count": 2,
   "metadata": {},
   "outputs": [],
   "source": [
    "from selenium import webdriver\n",
    "from selenium.webdriver.common.keys import Keys\n",
    "from selenium.webdriver.common.by import By\n",
    "from selenium.webdriver.chrome.service import Service\n",
    "\n",
    "driver = webdriver.Chrome(service=Service('C:/Temp/chromedriver'))\n",
    "driver.get('http://www.naver.com/') \n",
    "\n",
    "target=driver.find_element(By.CSS_SELECTOR, \"[name = 'query']\")\n",
    "target.send_keys('파이썬')\n",
    "target.send_keys(Keys.ENTER)"
   ]
  },
  {
   "cell_type": "code",
   "execution_count": 3,
   "metadata": {},
   "outputs": [],
   "source": [
    "driver = webdriver.Chrome(service=Service('C:/Temp/chromedriver'))\n",
    "driver.get('http://www.naver.com/') \n",
    "\n",
    "target = driver.find_element(By.ID,\"query\")\n",
    "target.send_keys('파이썬')\n",
    "target.send_keys(Keys.ENTER)"
   ]
  },
  {
   "cell_type": "code",
   "execution_count": 4,
   "metadata": {},
   "outputs": [],
   "source": [
    "driver = webdriver.Chrome(service=Service('C:/Temp/chromedriver'))\n",
    "driver.get('http://www.naver.com/') \n",
    "\n",
    "target = driver.find_element(By.CLASS_NAME,'input_text')\n",
    "target.send_keys('파이썬')\n",
    "target.send_keys(Keys.ENTER)"
   ]
  }
 ],
 "metadata": {
  "kernelspec": {
   "display_name": "Python 3.10.8 64-bit (microsoft store)",
   "language": "python",
   "name": "python3"
  },
  "language_info": {
   "codemirror_mode": {
    "name": "ipython",
    "version": 3
   },
   "file_extension": ".py",
   "mimetype": "text/x-python",
   "name": "python",
   "nbconvert_exporter": "python",
   "pygments_lexer": "ipython3",
   "version": "3.10.8"
  },
  "orig_nbformat": 4,
  "vscode": {
   "interpreter": {
    "hash": "34cedc79af05b422fdf29f99b117d39538396108f2fa338b8979780fbc124c5c"
   }
  }
 },
 "nbformat": 4,
 "nbformat_minor": 2
}

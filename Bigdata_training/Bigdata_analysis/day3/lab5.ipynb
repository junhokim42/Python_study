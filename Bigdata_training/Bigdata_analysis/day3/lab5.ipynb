{
 "cells": [
  {
   "cell_type": "code",
   "execution_count": 19,
   "metadata": {},
   "outputs": [
    {
     "name": "stdout",
     "output_type": "stream",
     "text": [
      "1페이지 진행 중\n",
      "2페이지 진행 중\n",
      "3페이지 진행 중\n",
      "4페이지 진행 중\n",
      "5페이지 진행 중\n",
      "6페이지 진행 중\n",
      "7페이지 진행 중\n",
      "8페이지 진행 중\n",
      "9페이지 진행 중\n",
      "10페이지 진행 중\n",
      "['푸르밀)웰치사과에이드250ML', '푸르밀)웰치포도에이드250ML', '하겐)녹차파인트', '하겐)딸기파인트', '하겐)레드벨벳치즈케이크파인트', '하겐)마카다미아파인트', '하겐)바닐라라즈베리파인트', '하겐)바닐라밀크티파인트', '하겐)바닐라파인트', '하겐)벨지안초콜릿&헤이즐넛파인', '하겐)쵸코렛파인트', '하겐)쿠키앤크림파인트', '하겐)트위스트초코딸기파인트', '하겐)트위스트초코바닐라파인트', '오뚜기)육개장(소컵)', '그대로쫀득고구마스틱(20G)', '더스윗)틱톡젤리딸기3000', '더스윗)틱톡젤리포도3000', '피니)라즈앤드블랙베리85G', '피니)젤리빈90G', '피니)젤리웜즈100G', '피니)콜라보틀젤리100G', '피니)크로커다일젤리100G', '피니)피지웜즈100G', '피니)해피믹스90G', '피니)해피사우워믹스90G', '마즈)스니커즈미니20G', '거산)당근꿀맛고구마60G(봉)', '거산)찰진꿀맛고구마60G(봉)', '거산)호박꿀맛고구마60G(봉)', '거산)꿀머군고구마(120G/봉)', '돌)건망고(80G/봉)', '돌)감귤컵198G', '돌)망고컵198G', '돌)복숭아컵198G', '돌)파인애플컵198G', 'TDF)조카스타웨이퍼롤메이플400G', 'TDF)조카스타웨이퍼롤애플파이', '흥선)임실치즈갈릭크래커60G', '유어스(P)슈퍼말차워터500ML', '웅진)꿀홍삼PET280ML', '웅진)내사랑유자CPET280ML', '웅진)꿀먹은헛개180ML병', '웅진)꿀홍삼180ML병', '동아)데자와밀크티캔240ML', '썬키스트)모과생강280ML', '해태)썬키스트허니유자280ML', '조지아)맥스커피240ML', '조지아)카페라떼240ML', '팜트리)궁중발효홍삼100ML', '칸타타)아메리카노275ML(NB캔)', '칸타타)콜드브루블랙275ML(NB캔)', '칸타타)프리미엄라떼275ML(NB캔)', '레쓰비)카페타임라떼240ML', '레쓰비)카페타임헤이즐넛240ML', '흥선)떡볶이스낵김치컵라면맛', '흥선)빼바프로틴레드27G', '오징어물회330G(냉동)', '납딱한오다리25G', '대구노가리30G', '도톰한오징어25G', '켈로그)베리앤넛에너지바1400', '켈로그)첵스초코오리지널', '켈)프로틴그래놀라바고소한맛35G', '켈)프로틴그래놀라바사과맛30G', '프링글스)매콤한맛(대)', '프링글스)양파맛(대)', '프링글스)오리지날(대)', '프링글스)치즈맛(대)', '프링글스슈퍼핫갈릭새우맛110G', 'Y(P)다운타우너치폴레소세지80G', 'Y(P)다운타우너트러플소세지80G', '쫄깃한한입문어70G(냉장)', '맥널티)스테비아커피믹스원컵', '맥널티)스테비아제로슈가핫초코', '팔도)비빔장스틱형(10입)', '허쉬)머쉬멜로핫초코원컵30G', '허쉬)민트핫초코원컵30G', '티젠)핫콤부차(진저레몬)10입', '머거본)볶음땅콩100G']\n",
      "------------------------------\n",
      "['1500', '1500', '15900', '15900', '15900', '15900', '15900', '15900', '15900', '15900', '15900', '15900', '15900', '15900', '1000', '1500', '3000', '3000', '1800', '1800', '1800', '1800', '1800', '1800', '1800', '1800', '600', '3900', '3900', '3900', '2800', '4500', '2900', '2900', '2900', '2900', '5900', '5900', '1500', '2000', '1600', '1600', '1400', '1400', '1500', '1800', '1800', '1200', '1200', '2200', '2200', '2200', '2200', '1200', '1200', '1500', '1500', '8900', '3800', '3800', '3800', '1400', '1200', '1800', '1800', '3700', '3700', '3700', '3700', '3700', '2300', '2300', '5500', '1500', '1800', '7000', '1800', '1800', '7500', '3000']\n"
     ]
    }
   ],
   "source": [
    "from selenium import webdriver\n",
    "from selenium.webdriver.common.by import By\n",
    "from selenium.webdriver.chrome.service import Service\n",
    "import time\n",
    "import re\n",
    "import pandas as pd\n",
    "\n",
    "driver = webdriver.Chrome(service=Service('C:/Temp/chromedriver'))\n",
    "driver.implicitly_wait(2) \n",
    "\n",
    "driver.get(\"http://gs25.gsretail.com/gscvs/ko/products/event-goods\")\n",
    "\n",
    "time.sleep(1)\n",
    "twotoone = driver.find_element(By.ID, 'TWO_TO_ONE')\n",
    "twotoone.click()\n",
    "time.sleep(1)\n",
    "\n",
    "product_list = []\n",
    "price_list = []\n",
    "count = 1\n",
    "\n",
    "# 1 페이지\n",
    "print(f'{count}페이지 진행 중')\n",
    "product_selector = 'div > div > div:nth-child(5) > ul > li > div > p.tit'\n",
    "price_selector = 'div > div > div:nth-child(5) > ul > li > div > p.price > span'\n",
    "\n",
    "product = driver.find_elements(By.CSS_SELECTOR, product_selector)\n",
    "price = driver.find_elements(By.CSS_SELECTOR, price_selector)\n",
    "\n",
    "for j in range(len(product)) :\n",
    "    product_list.append(product[j].text)\n",
    "    price_text = re.sub(\"[,원]\", '', price[j].text)\n",
    "    price_list.append(price_text)\n",
    "\n",
    "# 2~10 페이지\n",
    "for i in range(2,11):\n",
    "    page = f'div > div > div:nth-child(5) > div > span > a:nth-child({str(i)})'\n",
    "    next_page = driver.find_element(By.CSS_SELECTOR, page)\n",
    "    next_page.click()\n",
    "    time.sleep(1)\n",
    "    count += 1\n",
    "\n",
    "    print(f'{count}페이지 진행 중')\n",
    "\n",
    "    product_selector = 'div > div > div:nth-child(5) > ul > li > div > p.tit'\n",
    "    price_selector = 'div > div > div:nth-child(5) > ul > li > div > p.price > span'\n",
    "\n",
    "    product = driver.find_elements(By.CSS_SELECTOR, product_selector)\n",
    "    price = driver.find_elements(By.CSS_SELECTOR, price_selector)\n",
    "\n",
    "    for j in range(len(product)) :\n",
    "        product_list.append(product[j].text)\n",
    "        price_text = re.sub(\"[,원]\", '', price[j].text)\n",
    "        price_list.append(price_text)\n",
    "\n",
    "# 출력 확인 및 csv 저장\n",
    "print(product_list)\n",
    "print('------------------------------')\n",
    "print(price_list)\n",
    "\n",
    "driver.quit()\n",
    "\n",
    "gs25 = {\"goodsname\":product_list, \"goodsprice\":price_list}\n",
    "df = pd.DataFrame(gs25)\n",
    "df.to_csv(\"output/gs25_twotoone.csv\", index=False)\n"
   ]
  }
 ],
 "metadata": {
  "kernelspec": {
   "display_name": "Python 3.10.8 64-bit (microsoft store)",
   "language": "python",
   "name": "python3"
  },
  "language_info": {
   "codemirror_mode": {
    "name": "ipython",
    "version": 3
   },
   "file_extension": ".py",
   "mimetype": "text/x-python",
   "name": "python",
   "nbconvert_exporter": "python",
   "pygments_lexer": "ipython3",
   "version": "3.10.8"
  },
  "orig_nbformat": 4,
  "vscode": {
   "interpreter": {
    "hash": "34cedc79af05b422fdf29f99b117d39538396108f2fa338b8979780fbc124c5c"
   }
  }
 },
 "nbformat": 4,
 "nbformat_minor": 2
}

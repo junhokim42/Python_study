{
 "cells": [
  {
   "cell_type": "markdown",
   "metadata": {},
   "source": [
    "# 동적 웹 크롤링과 스크래핑"
   ]
  },
  {
   "cell_type": "code",
   "execution_count": 1,
   "metadata": {},
   "outputs": [
    {
     "name": "stdout",
     "output_type": "stream",
     "text": [
      "Requirement already satisfied: selenium in c:\\users\\82102\\appdata\\local\\packages\\pythonsoftwarefoundation.python.3.10_qbz5n2kfra8p0\\localcache\\local-packages\\python310\\site-packages (4.6.0)\n",
      "Requirement already satisfied: trio-websocket~=0.9 in c:\\users\\82102\\appdata\\local\\packages\\pythonsoftwarefoundation.python.3.10_qbz5n2kfra8p0\\localcache\\local-packages\\python310\\site-packages (from selenium) (0.9.2)\n",
      "Requirement already satisfied: trio~=0.17 in c:\\users\\82102\\appdata\\local\\packages\\pythonsoftwarefoundation.python.3.10_qbz5n2kfra8p0\\localcache\\local-packages\\python310\\site-packages (from selenium) (0.22.0)\n",
      "Requirement already satisfied: urllib3[socks]~=1.26 in c:\\users\\82102\\appdata\\local\\packages\\pythonsoftwarefoundation.python.3.10_qbz5n2kfra8p0\\localcache\\local-packages\\python310\\site-packages (from selenium) (1.26.12)\n",
      "Requirement already satisfied: certifi>=2021.10.8 in c:\\users\\82102\\appdata\\local\\packages\\pythonsoftwarefoundation.python.3.10_qbz5n2kfra8p0\\localcache\\local-packages\\python310\\site-packages (from selenium) (2022.6.15)\n",
      "Requirement already satisfied: exceptiongroup>=1.0.0rc9 in c:\\users\\82102\\appdata\\local\\packages\\pythonsoftwarefoundation.python.3.10_qbz5n2kfra8p0\\localcache\\local-packages\\python310\\site-packages (from trio~=0.17->selenium) (1.0.4)\n",
      "Requirement already satisfied: sortedcontainers in c:\\users\\82102\\appdata\\local\\packages\\pythonsoftwarefoundation.python.3.10_qbz5n2kfra8p0\\localcache\\local-packages\\python310\\site-packages (from trio~=0.17->selenium) (2.4.0)\n",
      "Requirement already satisfied: sniffio in c:\\users\\82102\\appdata\\local\\packages\\pythonsoftwarefoundation.python.3.10_qbz5n2kfra8p0\\localcache\\local-packages\\python310\\site-packages (from trio~=0.17->selenium) (1.3.0)\n",
      "Requirement already satisfied: cffi>=1.14 in c:\\users\\82102\\appdata\\local\\packages\\pythonsoftwarefoundation.python.3.10_qbz5n2kfra8p0\\localcache\\local-packages\\python310\\site-packages (from trio~=0.17->selenium) (1.15.1)\n",
      "Requirement already satisfied: async-generator>=1.9 in c:\\users\\82102\\appdata\\local\\packages\\pythonsoftwarefoundation.python.3.10_qbz5n2kfra8p0\\localcache\\local-packages\\python310\\site-packages (from trio~=0.17->selenium) (1.10)\n",
      "Requirement already satisfied: attrs>=19.2.0 in c:\\users\\82102\\appdata\\local\\packages\\pythonsoftwarefoundation.python.3.10_qbz5n2kfra8p0\\localcache\\local-packages\\python310\\site-packages (from trio~=0.17->selenium) (22.1.0)\n",
      "Requirement already satisfied: idna in c:\\users\\82102\\appdata\\local\\packages\\pythonsoftwarefoundation.python.3.10_qbz5n2kfra8p0\\localcache\\local-packages\\python310\\site-packages (from trio~=0.17->selenium) (2.10)\n",
      "Requirement already satisfied: outcome in c:\\users\\82102\\appdata\\local\\packages\\pythonsoftwarefoundation.python.3.10_qbz5n2kfra8p0\\localcache\\local-packages\\python310\\site-packages (from trio~=0.17->selenium) (1.2.0)\n",
      "Requirement already satisfied: wsproto>=0.14 in c:\\users\\82102\\appdata\\local\\packages\\pythonsoftwarefoundation.python.3.10_qbz5n2kfra8p0\\localcache\\local-packages\\python310\\site-packages (from trio-websocket~=0.9->selenium) (1.2.0)\n",
      "Requirement already satisfied: PySocks!=1.5.7,<2.0,>=1.5.6 in c:\\users\\82102\\appdata\\local\\packages\\pythonsoftwarefoundation.python.3.10_qbz5n2kfra8p0\\localcache\\local-packages\\python310\\site-packages (from urllib3[socks]~=1.26->selenium) (1.7.1)\n",
      "Requirement already satisfied: pycparser in c:\\users\\82102\\appdata\\local\\packages\\pythonsoftwarefoundation.python.3.10_qbz5n2kfra8p0\\localcache\\local-packages\\python310\\site-packages (from cffi>=1.14->trio~=0.17->selenium) (2.21)\n",
      "Requirement already satisfied: h11<1,>=0.9.0 in c:\\users\\82102\\appdata\\local\\packages\\pythonsoftwarefoundation.python.3.10_qbz5n2kfra8p0\\localcache\\local-packages\\python310\\site-packages (from wsproto>=0.14->trio-websocket~=0.9->selenium) (0.9.0)\n"
     ]
    },
    {
     "name": "stderr",
     "output_type": "stream",
     "text": [
      "\n",
      "[notice] A new release of pip available: 22.2.2 -> 22.3.1\n",
      "[notice] To update, run: C:\\Users\\82102\\AppData\\Local\\Microsoft\\WindowsApps\\PythonSoftwareFoundation.Python.3.10_qbz5n2kfra8p0\\python.exe -m pip install --upgrade pip\n"
     ]
    }
   ],
   "source": [
    "# selenium API 를 재설치 합시다요~~~~~\n",
    "!pip install selenium"
   ]
  },
  {
   "cell_type": "code",
   "execution_count": 7,
   "metadata": {
    "tags": []
   },
   "outputs": [
    {
     "name": "stdout",
     "output_type": "stream",
     "text": [
      "WebDriver 객체 :  <class 'selenium.webdriver.chrome.webdriver.WebDriver'>\n"
     ]
    }
   ],
   "source": [
    "from selenium import webdriver\n",
    "from selenium.webdriver.common.keys import Keys \n",
    "from selenium.webdriver.common.by import By\n",
    "from selenium.webdriver.chrome.service import Service\n",
    "\n",
    "driver = webdriver.Chrome(service=Service('C:/Temp/chromedriver')) # selnium 4.x\n",
    "#driver = webdriver.Chrome('C:/Temp/chromedriver') # selnium 3.x\n",
    "print(\"WebDriver 객체 : \", type(driver))"
   ]
  },
  {
   "cell_type": "code",
   "execution_count": 3,
   "metadata": {
    "tags": []
   },
   "outputs": [],
   "source": [
    "driver.get('http://www.google.com/ncr') "
   ]
  },
  {
   "cell_type": "code",
   "execution_count": 4,
   "metadata": {
    "tags": []
   },
   "outputs": [
    {
     "name": "stdout",
     "output_type": "stream",
     "text": [
      "찾아온 태그 객체 :  <class 'selenium.webdriver.remote.webelement.WebElement'>\n"
     ]
    }
   ],
   "source": [
    "target=driver.find_element(By.CSS_SELECTOR, \"[name = 'q']\")\n",
    "print(\"찾아온 태그 객체 : \", type(target))\n",
    "target.send_keys('파이썬')"
   ]
  },
  {
   "cell_type": "code",
   "execution_count": 5,
   "metadata": {
    "tags": []
   },
   "outputs": [],
   "source": [
    "target.send_keys(Keys.ENTER)"
   ]
  },
  {
   "cell_type": "code",
   "execution_count": 6,
   "metadata": {
    "tags": []
   },
   "outputs": [],
   "source": [
    "driver.quit()"
   ]
  },
  {
   "cell_type": "code",
   "execution_count": 8,
   "metadata": {
    "tags": []
   },
   "outputs": [
    {
     "name": "stdout",
     "output_type": "stream",
     "text": [
      "[]\n"
     ]
    }
   ],
   "source": [
    "import urllib.request\n",
    "from bs4 import BeautifulSoup\n",
    "#서버 접속\n",
    "server = urllib.request.urlopen(\"https://www.istarbucks.co.kr/store/store_map.do\")\n",
    "\n",
    "response =server.read()\n",
    "bs = BeautifulSoup(response, \"html.parser\")\n",
    "li = bs.find_all('li', class_=\"quickResultLstCon\")\n",
    "print(li)"
   ]
  },
  {
   "cell_type": "code",
   "execution_count": 9,
   "metadata": {
    "tags": []
   },
   "outputs": [
    {
     "name": "stdout",
     "output_type": "stream",
     "text": [
      "<class 'selenium.webdriver.remote.webelement.WebElement'>\n",
      "<class 'str'>\n",
      "구리갈매역\n",
      "경기도 구리시 경춘북로 252 (갈매동, 갈매역아이파크)\n",
      "1522-3232\n",
      "리저브 매장 2번\n"
     ]
    }
   ],
   "source": [
    "driver = webdriver.Chrome(service=Service('C:/Temp/chromedriver'))\n",
    "driver.implicitly_wait(3)\n",
    "driver.get(\"https://www.istarbucks.co.kr/store/store_map.do\")\n",
    "target=driver.find_element(By.CLASS_NAME, \"quickResultLstCon\")\n",
    "\n",
    "print(type(target))\n",
    "print(type(target.text))\n",
    "print(target.text)\n",
    "#driver.quit()"
   ]
  },
  {
   "cell_type": "code",
   "execution_count": 10,
   "metadata": {},
   "outputs": [
    {
     "name": "stdout",
     "output_type": "stream",
     "text": [
      "<selenium.webdriver.chrome.webdriver.WebDriver (session=\"78e6643d58aa86ece1d6537b9e3e7b88\")>\n"
     ]
    }
   ],
   "source": [
    "from selenium import webdriver\n",
    "\n",
    "#driver = webdriver.Chrome(service=Service('C:/Temp/chromedriver'))\n",
    "#driver.implicitly_wait(3)\n",
    "#print('[ webdriver 객체 정보 ]')\n",
    "#print(type(driver)) \n",
    "print(driver) \n",
    "driver.get('http://unico2013.dothome.co.kr/crawling/exercise_css.html')\n"
   ]
  },
  {
   "cell_type": "code",
   "execution_count": 11,
   "metadata": {},
   "outputs": [
    {
     "name": "stdout",
     "output_type": "stream",
     "text": [
      "<class 'selenium.webdriver.remote.webelement.WebElement'>\n",
      "h1 : CSS 선택자 학습\n",
      "-----------------------------\n",
      "<class 'list'>\n",
      "h2 : 교육과정 소개\n",
      "h2 : 웹 클라이언트 기술\n",
      "h2 : 학습 순서(수집)\n"
     ]
    }
   ],
   "source": [
    "byTagName = driver.find_element(By.TAG_NAME,'h1')\n",
    "print(type(byTagName))\n",
    "print(byTagName.tag_name, \":\", byTagName.text)\n",
    "print('-----------------------------')\n",
    "byTagNames = driver.find_elements(By.TAG_NAME, 'h2')\n",
    "print(type(byTagNames))\n",
    "for tagName in byTagNames :\n",
    "   print(tagName.tag_name, \":\", tagName.text)\n",
    "#driver.quit()"
   ]
  },
  {
   "cell_type": "code",
   "execution_count": 13,
   "metadata": {},
   "outputs": [
    {
     "name": "stdout",
     "output_type": "stream",
     "text": [
      "<class 'selenium.webdriver.remote.webelement.WebElement'>\n",
      "h2 : 웹 클라이언트 기술\n",
      "-----------------------------\n",
      "<class 'list'>\n",
      "h2 : 웹 클라이언트 기술\n",
      "h2 : 학습 순서(수집)\n"
     ]
    }
   ],
   "source": [
    "from selenium import webdriver\n",
    "\n",
    "#driver = webdriver.Chrome(service=Service('C:/Temp/chromedriver'))\n",
    "#driver.implicitly_wait(3) \n",
    "\n",
    "#driver.get('http://unico2013.dothome.co.kr/crawling/exercise_css.html')\n",
    "\n",
    "byClassName = driver.find_element(By.CLASS_NAME,'subtitle')\n",
    "print(type(byClassName))\n",
    "print(byClassName.tag_name, \":\", byClassName.text)\n",
    "print('-----------------------------')\n",
    "byClassNames = driver.find_elements(By.CLASS_NAME, 'subtitle')\n",
    "print(type(byClassNames))\n",
    "for className in byClassNames :\n",
    "   print(className.tag_name, \":\", className.text)\n",
    "#driver.quit()\n"
   ]
  },
  {
   "cell_type": "code",
   "execution_count": 14,
   "metadata": {},
   "outputs": [
    {
     "name": "stdout",
     "output_type": "stream",
     "text": [
      "<class 'selenium.webdriver.remote.webelement.WebElement'>\n",
      "li : HTML5\n",
      "-----------------------------\n",
      "<class 'selenium.webdriver.remote.webelement.WebElement'>\n",
      "a : 파이썬 학습 사이트\n",
      "-----------------------------\n",
      "<class 'list'>\n",
      "a : HTML, CSS, JavaScript 학습 사이트\n",
      "a : 파이썬 학습 사이트\n"
     ]
    }
   ],
   "source": [
    "from selenium import webdriver\n",
    "\n",
    "#driver = webdriver.Chrome('C:/Temp/chromedriver')\n",
    "#driver.implicitly_wait(3) \n",
    "\n",
    "#driver.get('http://unico2013.dothome.co.kr/crawling/exercise_css.html')\n",
    "\n",
    "byId = driver.find_element(By.ID,'btype')\n",
    "print(type(byId))\n",
    "print(byId.tag_name, \":\", byId.text)\n",
    "print('-----------------------------')\n",
    "byLinkText = driver.find_element(By.LINK_TEXT,'파이썬 학습 사이트')\n",
    "print(type(byLinkText))\n",
    "print(byLinkText.tag_name, \":\", byLinkText.text)\n",
    "print('-----------------------------')\n",
    "byPLinkText = driver.find_elements(By.PARTIAL_LINK_TEXT,'사이트')\n",
    "print(type(byPLinkText))\n",
    "for linkText in byPLinkText :\n",
    "   print(linkText.tag_name, \":\", linkText.text)\n",
    "#driver.quit()"
   ]
  },
  {
   "cell_type": "code",
   "execution_count": 15,
   "metadata": {},
   "outputs": [
    {
     "name": "stdout",
     "output_type": "stream",
     "text": [
      "<class 'selenium.webdriver.remote.webelement.WebElement'>\n",
      "h2 : 교육과정 소개\n",
      "-----------------------------\n",
      "<class 'selenium.webdriver.remote.webelement.WebElement'>\n",
      "h2 : 학습 순서(수집)\n",
      "-----------------------------\n",
      "<class 'selenium.webdriver.remote.webelement.WebElement'>\n",
      "li : JavaScript\n",
      "-----------------------------\n",
      "<class 'list'>\n",
      "li : CSS3\n",
      "li : Ajax\n"
     ]
    }
   ],
   "source": [
    "from selenium import webdriver\n",
    "\n",
    "#driver = webdriver.Chrome('C:/Temp/chromedriver')driver = webdriver.Chrome(service=Service('C:/Temp/chromedriver'))\n",
    "#driver.implicitly_wait(3) \n",
    "\n",
    "#driver.get('http://unico2013.dothome.co.kr/crawling/exercise_css.html')\n",
    "\n",
    "byCss1 = driver.find_element(By.CSS_SELECTOR, 'section>h2')\n",
    "print(type(byCss1))\n",
    "print(byCss1.tag_name, \":\", byCss1.text)\n",
    "print('-----------------------------')\n",
    "byCss2 = driver.find_element(By.CSS_SELECTOR,'aside>h2')\n",
    "print(type(byCss2))\n",
    "print(byCss2.tag_name, \":\", byCss2.text)\n",
    "print('-----------------------------')\n",
    "byCss3 = driver.find_element(By.CSS_SELECTOR,'body > section > article > ul > li:nth-child(3)')\n",
    "print(type(byCss3))\n",
    "print(byCss3.tag_name, \":\", byCss3.text)\n",
    "print('-----------------------------')\n",
    "byCss4 = driver.find_elements(By.CSS_SELECTOR,'ul>li.atype')\n",
    "print(type(byCss4))\n",
    "for byCss in byCss4 :\n",
    "   print(byCss.tag_name, \":\", byCss.text)\n",
    "#driver.quit()"
   ]
  },
  {
   "cell_type": "code",
   "execution_count": 16,
   "metadata": {},
   "outputs": [
    {
     "name": "stdout",
     "output_type": "stream",
     "text": [
      "<class 'selenium.webdriver.remote.webelement.WebElement'>\n",
      "h2 : 교육과정 소개\n",
      "-----------------------------\n",
      "<class 'selenium.webdriver.remote.webelement.WebElement'>\n",
      "li : JavaScript\n",
      "-----------------------------\n",
      "<class 'list'>\n",
      "li : CSS3\n",
      "li : Ajax\n"
     ]
    }
   ],
   "source": [
    "from selenium import webdriver\n",
    "\n",
    "#driver = webdriver.Chrome(service=Service('C:/Temp/chromedriver'))\n",
    "#driver.implicitly_wait(3) \n",
    "\n",
    "#driver.get('http://unico2013.dothome.co.kr/crawling/exercise_css.html')\n",
    "\n",
    "byXpath1 = driver.find_element(By.XPATH,'//*[@id=\"f_subtitle\"]')\n",
    "print(type(byXpath1))\n",
    "print(byXpath1.tag_name, \":\", byXpath1.text)\n",
    "print('-----------------------------')\n",
    "byXpath2 = driver.find_element(By.XPATH,'/html/body/section/article/ul/li[3]')\n",
    "print(type(byXpath2))\n",
    "print(byXpath2.tag_name, \":\", byXpath2.text)\n",
    "print('-----------------------------')\n",
    "byXpath3 = driver.find_elements(By.XPATH,'//ul/li[@class=\"atype\"]')\n",
    "print(type(byXpath3))\n",
    "for byXpath in byXpath3 :\n",
    "   print(byXpath.tag_name, \":\", byXpath.text)\n",
    "#driver.quit()"
   ]
  },
  {
   "cell_type": "code",
   "execution_count": null,
   "metadata": {},
   "outputs": [],
   "source": [
    "from selenium import webdriver\n",
    "\n",
    "#driver = webdriver.Chrome(service=Service('C:/Temp/chromedriver'))\n",
    "#driver.implicitly_wait(3) \n",
    "\n",
    "#driver.get('http://unico2013.dothome.co.kr/crawling/exercise_css.html')\n",
    "\n",
    "byXpath1 = driver.find_element(By.XPATH,'//div/img')\n",
    "print(type(byXpath1))\n",
    "print(byXpath1.tag_name, \":\", byXpath1.get_attribute('src'))\n",
    "print('-----------------------------')\n",
    "byXpath2 = driver.find_elements(By.XPATH,'/html/body/header/nav/a')\n",
    "print(type(byXpath2))\n",
    "for byXpath in byXpath2 :\n",
    "   print(byXpath.tag_name, \":\", byXpath.get_attribute('href'))\n",
    "#driver.quit()"
   ]
  },
  {
   "cell_type": "code",
   "execution_count": 18,
   "metadata": {},
   "outputs": [],
   "source": [
    "from selenium import webdriver\n",
    "from selenium.webdriver.common.keys import Keys\n",
    "from selenium.webdriver.chrome.service import Service\n",
    "from selenium.webdriver.common.by import By\n",
    "import time\n",
    "\n",
    "url = \"https://www.megabox.co.kr/movie-detail/comment?rpstMovieNo=21033000\"\n",
    "driver =  webdriver.Chrome(service=Service('C:/Temp/chromedriver'))\n",
    "driver.get(url)\n",
    "\n",
    "points = list()\n",
    "recommends = list()\n",
    "txts = list()\n",
    "\n",
    "# 1페이지 정보\n",
    "driver.implicitly_wait(3)\n",
    "time.sleep(2)\n",
    "points.extend([p.text for p in driver.find_elements(By.CLASS_NAME, 'story-point')])\n",
    "recommends.extend([r.text for r in driver.find_elements(By.CLASS_NAME,'story-recommend')])\n",
    "txts.extend([t.text for t in driver.find_elements(By.CLASS_NAME,'story-txt')])\n",
    "\n",
    "# 2~30 페이지 정보\n",
    "for page in range(2, 31):\n",
    "    if page % 10 == 1:\n",
    "        next_btn = driver.find_element(By.CSS_SELECTOR, \"#contentData > div > div.movie-idv-story > nav > a.control.next\")\n",
    "        next_btn.click()\n",
    "    else:\n",
    "        page_btn = driver.find_element(By.LINK_TEXT, str(page))\n",
    "        page_btn.click()\n",
    "    driver.implicitly_wait(3)\n",
    "    time.sleep(2)\n",
    "    \n",
    "    points.extend([p.text for p in driver.find_elements(By.CLASS_NAME,'story-point')])\n",
    "    recommends.extend([r.text for r in driver.find_elements(By.CLASS_NAME,'story-recommend')])\n",
    "    txts.extend([t.text for t in driver.find_elements(By.CLASS_NAME,'story-txt')])\n",
    "    \n",
    "with open('output/movie.csv', \"wt\", encoding=\"utf-8\") as f:\n",
    "    f.write(\"score,genre,review\\n\")\n",
    "    for p, r, t in zip(points, recommends, txts):\n",
    "        t = '\"' + t.replace('\"', '\"\"') + '\"'\n",
    "        f.write(\",\".join([p, r, t])+\"\\n\")   \n"
   ]
  },
  {
   "cell_type": "code",
   "execution_count": null,
   "metadata": {},
   "outputs": [],
   "source": [
    "import pandas as pd\n",
    "dict = {\"score\":points, \"genre\":recommends, \"review\":txts}\n",
    "df = pd.DataFrame(dict)\n",
    "df.to_csv(\"output/moviedf.csv\", index=False)"
   ]
  },
  {
   "cell_type": "code",
   "execution_count": null,
   "metadata": {},
   "outputs": [],
   "source": [
    "#소스1\n",
    "from selenium import webdriver\n",
    "from selenium.webdriver.common.keys import Keys \n",
    "\n",
    "driver = webdriver.Chrome(service=Service('C:/Temp/chromedriver'))\n",
    "driver.implicitly_wait(3) \n",
    "driver.get('https://map.naver.com/') \n",
    "import time\n",
    "time.sleep(2)\n",
    "\n",
    "target=driver.find_element(By.CSS_SELECTOR, \".input_search\")\n",
    "\n",
    "target.send_keys('서울시어린이도서관')\n",
    "target.send_keys(Keys.ENTER)"
   ]
  },
  {
   "cell_type": "code",
   "execution_count": null,
   "metadata": {},
   "outputs": [],
   "source": [
    "time.sleep(2)\n",
    "driver.switch_to.frame(\"searchIframe\") \n",
    "while True :    \n",
    "    names = driver.find_elements(By.CSS_SELECTOR, \"span.place_bluelink\")\n",
    "    addrs = driver.find_elements(By.CSS_SELECTOR, \"span.hClKF\")\n",
    "    if len(names) == 0 :\n",
    "        print(\"추출되는 도서관이 더 이상 없슈\")\n",
    "        break\n",
    "    for i in range(len(names)) :\n",
    "        print(names[i].text,addrs[i].text, sep=\", \", end=\"\\n\")\n",
    "    print(\"------------------------------------------------\")\n",
    "    linkurl = '#app-root > div > div.XUrfU > div.zRM9F > a:nth-child(7)'\n",
    "    try :\n",
    "        linkNum = driver.find_element(By.CSS_SELECTOR, linkurl)\n",
    "    except :\n",
    "        print(\"더 이상 다음 페이지 없음\")\n",
    "        break\n",
    "    linkNum.click()  \n",
    "    time.sleep(5)\n",
    "print(\"스크래핑 종료\")\n",
    "#driver.quit()"
   ]
  },
  {
   "cell_type": "code",
   "execution_count": null,
   "metadata": {},
   "outputs": [],
   "source": [
    "#소스2\n",
    "from selenium import webdriver\n",
    "from selenium.webdriver.common.keys import Keys \n",
    "\n",
    "driver = webdriver.Chrome(service=Service('C:/Temp/chromedriver'))\n",
    "driver.implicitly_wait(3) \n",
    "driver.get('https://map.naver.com/') \n",
    "import time\n",
    "time.sleep(2)\n",
    "\n",
    "target=driver.find_element(By.CSS_SELECTOR, \".input_search\")\n",
    "\n",
    "target.send_keys('서울시어린이도서관')\n",
    "target.send_keys(Keys.ENTER)\n",
    "\n",
    "time.sleep(2)\n",
    "driver.switch_to.frame(\"searchIframe\")\n",
    "while True :\n",
    "    count = 9\n",
    "    while True :\n",
    "        print(\"스크롤 : \" +str(count))\n",
    "        try :\n",
    "            driver.execute_script(\"var su = arguments[0]; var dom=document.querySelectorAll('#_pcmap_list_scroll_container>ul li')[su]; dom.scrollIntoView();\", count)\n",
    "            time.sleep(1)\n",
    "        except :            \n",
    "            break\n",
    "        count += 10\n",
    "    names = driver.find_elements(By.CSS_SELECTOR, \"span.place_bluelink\")\n",
    "    addrs = driver.find_elements(By.CSS_SELECTOR, \"span.hClKF\")\n",
    "    if len(names) == 0 :\n",
    "        print(\"추출되는 도서관이 더 이상 없슈\")\n",
    "        break\n",
    "    for i in range(len(names)) :\n",
    "        print(names[i].text,addrs[i].text, sep=\", \", end=\"\\n\")\n",
    "    print(\"------------------------------------------------\")\n",
    "    linkurl = '#app-root > div > div.XUrfU > div.zRM9F > a:nth-child(7)'\n",
    "    try :\n",
    "        linkNum = driver.find_element(By.CSS_SELECTOR, linkurl)\n",
    "    except :\n",
    "        print(\"더 이상 다음 페이지 없음\")\n",
    "        break\n",
    "    linkNum.click()  \n",
    "    time.sleep(2)\n",
    "print(\"스크래핑 종료\")\n",
    "\n",
    "driver.quit()"
   ]
  },
  {
   "cell_type": "code",
   "execution_count": null,
   "metadata": {},
   "outputs": [],
   "source": [
    "from selenium import webdriver\n",
    "from selenium.webdriver.common.by import By\n",
    "from selenium.webdriver.chrome.service import Service\n",
    "\n",
    "driver = webdriver.Chrome(service=Service('C:/Temp/chromedriver'))\n",
    "driver.implicitly_wait(3) \n",
    "\n",
    "driver.get(\"http://www.yes24.com/Product/goods/40936880\")\n",
    "import time\n",
    "temp_list = []\n",
    "time.sleep(3)\n",
    "stopFlag = False\n",
    "while True :\n",
    "  for n in range(4, 13) :\n",
    "    linkurl = '#infoset_reviewContentList > div.review_sort.sortBot > div.review_sortLft > div > a:nth-child('+str(n)+')'\n",
    "    linkNum = driver.find_element(By.CSS_SELECTOR, linkurl)\n",
    "    linkNum.click()   \n",
    "    time.sleep(2)\n",
    "    readLinks = driver.find_elements(By.CSS_SELECTOR, '#infoset_reviewContentList span.review_more')\n",
    "    ##infoset_reviewContentList > div:nth-child(4) > div.reviewInfoBot.crop > a > div > span\n",
    "    for readlink in readLinks :\n",
    "      #readlink.click()\n",
    "      driver.execute_script(\"arguments[0].click();\", readlink)\n",
    "      time.sleep(3)\n",
    "\n",
    "    reviewList = driver.find_elements(By.CSS_SELECTOR, '#infoset_reviewContentList div.reviewInfoBot.origin div.review_cont')\n",
    "    time.sleep(2)\n",
    "\n",
    "    for review in reviewList :    \n",
    "      temp_list.append(review.text)\n",
    "    \n",
    "    if len(reviewList) < 5 :\n",
    "      stopFlag = True\n",
    "      break\n",
    "      \n",
    "  if stopFlag == True :\n",
    "    break\n",
    "  nextPage = '#infoset_reviewContentList > div.review_sort.sortBot > div.review_sortLft > div > a.bgYUI.next'\n",
    "  linkNum = driver.find_element(By.CSS_SELECTOR, nextPage)\n",
    "  linkNum.click()\n",
    "  time.sleep(2)\n",
    "\n",
    "wfile = open(\"output/yes24file.txt\",\"w\", encoding=\"utf-8\") \n",
    "wfile.writelines(temp_list) \n",
    "wfile.close()\n",
    "\n",
    "driver.quit()"
   ]
  },
  {
   "cell_type": "code",
   "execution_count": null,
   "metadata": {},
   "outputs": [],
   "source": [
    "from selenium import webdriver\n",
    "from selenium.webdriver.common.by import By\n",
    "from selenium.webdriver.chrome.service import Service\n",
    "\n",
    "driver = webdriver.Chrome(service=Service('C:/Temp/chromedriver'))\n",
    "driver.implicitly_wait(3) \n",
    "\n",
    "driver.get(\"https://www.istarbucks.co.kr/store/store_map.do\")\n",
    "import time\n",
    "time.sleep(2)\n",
    "loca = driver.find_element(By.CLASS_NAME, 'loca_search')\n",
    "loca.click()\n",
    "time.sleep(2)\n",
    "f_link = driver.find_element(By.CSS_SELECTOR, \"div.loca_step1_cont > ul > li:nth-child(1) > a\")\n",
    "f_link.click()\n",
    "time.sleep(2)\n",
    "s_link = driver.find_element(By.CSS_SELECTOR, \"#mCSB_2_container > ul > li:nth-child(1) > a\")\n",
    "s_link.click()\n",
    "time.sleep(2)\n",
    "shopList = driver.find_elements(By.CSS_SELECTOR, \"#mCSB_3_container > ul > li\")\n",
    "\n",
    "temp_list = []\n",
    "time.sleep(3)\n",
    "count = 0\n",
    "total = len(shopList)\n",
    "print(f\"서울에는 총 {total}개의 매장이 있어요...\")\n",
    "for shop in shopList :    \n",
    "    count += 1\n",
    "    #print(count)\n",
    "    shoplat = shop.get_attribute(\"data-lat\")\n",
    "    shoplong = shop.get_attribute(\"data-long\")\n",
    "    shopname = shop.find_element(By.TAG_NAME, \"strong\")\n",
    "    shopinfo = shop.find_element(By.TAG_NAME, \"p\")\n",
    "    splitinfo = shopinfo.text.split('\\n')\n",
    "    if(len(splitinfo) == 2):\n",
    "        addr = splitinfo[0]\n",
    "        phonenum = splitinfo[1]\n",
    "    temp_list.append([shopname.text, shoplat, shoplong, addr, phonenum])\n",
    "    if count != total and count % 3 == 0:\n",
    "        driver.execute_script(\"var su = arguments[0]; var dom=document.querySelectorAll('#mCSB_3_container > ul > li')[su]; dom.scrollIntoView();\", count)\n",
    "with open('output/starbucks_shop.txt', \"wt\", encoding=\"utf-8\") as f:\n",
    "    for item in temp_list :\n",
    "        f.write(str(item)+'\\n')\n",
    "\n",
    "driver.quit()"
   ]
  },
  {
   "cell_type": "code",
   "execution_count": null,
   "metadata": {},
   "outputs": [],
   "source": []
  }
 ],
 "metadata": {
  "kernelspec": {
   "display_name": "Python 3.10.8 64-bit (microsoft store)",
   "language": "python",
   "name": "python3"
  },
  "language_info": {
   "codemirror_mode": {
    "name": "ipython",
    "version": 3
   },
   "file_extension": ".py",
   "mimetype": "text/x-python",
   "name": "python",
   "nbconvert_exporter": "python",
   "pygments_lexer": "ipython3",
   "version": "3.10.8"
  },
  "vscode": {
   "interpreter": {
    "hash": "34cedc79af05b422fdf29f99b117d39538396108f2fa338b8979780fbc124c5c"
   }
  }
 },
 "nbformat": 4,
 "nbformat_minor": 4
}

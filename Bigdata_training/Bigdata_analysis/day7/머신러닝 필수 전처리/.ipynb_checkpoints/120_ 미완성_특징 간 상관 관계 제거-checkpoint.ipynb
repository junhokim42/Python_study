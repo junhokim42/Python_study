{
 "cells": [
  {
   "cell_type": "code",
   "execution_count": 1,
   "metadata": {},
   "outputs": [],
   "source": [
    "import pandas as pd\n"
   ]
  },
  {
   "cell_type": "code",
   "execution_count": 2,
   "metadata": {},
   "outputs": [],
   "source": [
    "df = pd.read_csv(\"./데이터/abalone.csv\")"
   ]
  },
  {
   "cell_type": "code",
   "execution_count": 3,
   "metadata": {},
   "outputs": [
    {
     "data": {
      "text/html": [
       "<div>\n",
       "<style scoped>\n",
       "    .dataframe tbody tr th:only-of-type {\n",
       "        vertical-align: middle;\n",
       "    }\n",
       "\n",
       "    .dataframe tbody tr th {\n",
       "        vertical-align: top;\n",
       "    }\n",
       "\n",
       "    .dataframe thead th {\n",
       "        text-align: right;\n",
       "    }\n",
       "</style>\n",
       "<table border=\"1\" class=\"dataframe\">\n",
       "  <thead>\n",
       "    <tr style=\"text-align: right;\">\n",
       "      <th></th>\n",
       "      <th>Sex</th>\n",
       "      <th>Length</th>\n",
       "      <th>Diameter</th>\n",
       "      <th>Height</th>\n",
       "      <th>Whole weight</th>\n",
       "      <th>Shucked weight</th>\n",
       "      <th>Viscera weight</th>\n",
       "      <th>Shell weight</th>\n",
       "      <th>Rings</th>\n",
       "    </tr>\n",
       "  </thead>\n",
       "  <tbody>\n",
       "    <tr>\n",
       "      <th>0</th>\n",
       "      <td>M</td>\n",
       "      <td>0.455</td>\n",
       "      <td>0.365</td>\n",
       "      <td>0.095</td>\n",
       "      <td>0.5140</td>\n",
       "      <td>0.2245</td>\n",
       "      <td>0.1010</td>\n",
       "      <td>0.150</td>\n",
       "      <td>15</td>\n",
       "    </tr>\n",
       "    <tr>\n",
       "      <th>1</th>\n",
       "      <td>M</td>\n",
       "      <td>0.350</td>\n",
       "      <td>0.265</td>\n",
       "      <td>0.090</td>\n",
       "      <td>0.2255</td>\n",
       "      <td>0.0995</td>\n",
       "      <td>0.0485</td>\n",
       "      <td>0.070</td>\n",
       "      <td>7</td>\n",
       "    </tr>\n",
       "    <tr>\n",
       "      <th>2</th>\n",
       "      <td>F</td>\n",
       "      <td>0.530</td>\n",
       "      <td>0.420</td>\n",
       "      <td>0.135</td>\n",
       "      <td>0.6770</td>\n",
       "      <td>0.2565</td>\n",
       "      <td>0.1415</td>\n",
       "      <td>0.210</td>\n",
       "      <td>9</td>\n",
       "    </tr>\n",
       "    <tr>\n",
       "      <th>3</th>\n",
       "      <td>M</td>\n",
       "      <td>0.440</td>\n",
       "      <td>0.365</td>\n",
       "      <td>0.125</td>\n",
       "      <td>0.5160</td>\n",
       "      <td>0.2155</td>\n",
       "      <td>0.1140</td>\n",
       "      <td>0.155</td>\n",
       "      <td>10</td>\n",
       "    </tr>\n",
       "    <tr>\n",
       "      <th>4</th>\n",
       "      <td>I</td>\n",
       "      <td>0.330</td>\n",
       "      <td>0.255</td>\n",
       "      <td>0.080</td>\n",
       "      <td>0.2050</td>\n",
       "      <td>0.0895</td>\n",
       "      <td>0.0395</td>\n",
       "      <td>0.055</td>\n",
       "      <td>7</td>\n",
       "    </tr>\n",
       "  </tbody>\n",
       "</table>\n",
       "</div>"
      ],
      "text/plain": [
       "  Sex  Length  Diameter  Height  Whole weight  Shucked weight  Viscera weight  \\\n",
       "0   M   0.455     0.365   0.095        0.5140          0.2245          0.1010   \n",
       "1   M   0.350     0.265   0.090        0.2255          0.0995          0.0485   \n",
       "2   F   0.530     0.420   0.135        0.6770          0.2565          0.1415   \n",
       "3   M   0.440     0.365   0.125        0.5160          0.2155          0.1140   \n",
       "4   I   0.330     0.255   0.080        0.2050          0.0895          0.0395   \n",
       "\n",
       "   Shell weight  Rings  \n",
       "0         0.150     15  \n",
       "1         0.070      7  \n",
       "2         0.210      9  \n",
       "3         0.155     10  \n",
       "4         0.055      7  "
      ]
     },
     "execution_count": 3,
     "metadata": {},
     "output_type": "execute_result"
    }
   ],
   "source": [
    "df.head()"
   ]
  },
  {
   "cell_type": "code",
   "execution_count": 4,
   "metadata": {},
   "outputs": [],
   "source": [
    "# 특징과 라벨 분리\n",
    "X = df.drop(['Sex'], axis = 1)\n",
    "Y = df['Sex']"
   ]
  },
  {
   "cell_type": "code",
   "execution_count": 5,
   "metadata": {},
   "outputs": [],
   "source": [
    "# 학습 데이터와 평가 데이터 분리\n",
    "from sklearn.model_selection import train_test_split\n",
    "Train_X, Test_X, Train_Y, Test_Y = train_test_split(X, Y)"
   ]
  },
  {
   "cell_type": "code",
   "execution_count": 6,
   "metadata": {},
   "outputs": [
    {
     "data": {
      "text/html": [
       "<div>\n",
       "<style scoped>\n",
       "    .dataframe tbody tr th:only-of-type {\n",
       "        vertical-align: middle;\n",
       "    }\n",
       "\n",
       "    .dataframe tbody tr th {\n",
       "        vertical-align: top;\n",
       "    }\n",
       "\n",
       "    .dataframe thead th {\n",
       "        text-align: right;\n",
       "    }\n",
       "</style>\n",
       "<table border=\"1\" class=\"dataframe\">\n",
       "  <thead>\n",
       "    <tr style=\"text-align: right;\">\n",
       "      <th></th>\n",
       "      <th>Length</th>\n",
       "      <th>Diameter</th>\n",
       "      <th>Height</th>\n",
       "      <th>Whole weight</th>\n",
       "      <th>Shucked weight</th>\n",
       "      <th>Viscera weight</th>\n",
       "      <th>Shell weight</th>\n",
       "      <th>Rings</th>\n",
       "    </tr>\n",
       "  </thead>\n",
       "  <tbody>\n",
       "    <tr>\n",
       "      <th>Length</th>\n",
       "      <td>1.000000</td>\n",
       "      <td>0.986902</td>\n",
       "      <td>0.819458</td>\n",
       "      <td>0.924268</td>\n",
       "      <td>0.897061</td>\n",
       "      <td>0.903226</td>\n",
       "      <td>0.897456</td>\n",
       "      <td>0.565495</td>\n",
       "    </tr>\n",
       "    <tr>\n",
       "      <th>Diameter</th>\n",
       "      <td>0.986902</td>\n",
       "      <td>1.000000</td>\n",
       "      <td>0.825762</td>\n",
       "      <td>0.925003</td>\n",
       "      <td>0.893228</td>\n",
       "      <td>0.900361</td>\n",
       "      <td>0.904921</td>\n",
       "      <td>0.582394</td>\n",
       "    </tr>\n",
       "    <tr>\n",
       "      <th>Height</th>\n",
       "      <td>0.819458</td>\n",
       "      <td>0.825762</td>\n",
       "      <td>1.000000</td>\n",
       "      <td>0.806752</td>\n",
       "      <td>0.763903</td>\n",
       "      <td>0.786599</td>\n",
       "      <td>0.803864</td>\n",
       "      <td>0.553198</td>\n",
       "    </tr>\n",
       "    <tr>\n",
       "      <th>Whole weight</th>\n",
       "      <td>0.924268</td>\n",
       "      <td>0.925003</td>\n",
       "      <td>0.806752</td>\n",
       "      <td>1.000000</td>\n",
       "      <td>0.969892</td>\n",
       "      <td>0.966092</td>\n",
       "      <td>0.956372</td>\n",
       "      <td>0.547796</td>\n",
       "    </tr>\n",
       "    <tr>\n",
       "      <th>Shucked weight</th>\n",
       "      <td>0.897061</td>\n",
       "      <td>0.893228</td>\n",
       "      <td>0.763903</td>\n",
       "      <td>0.969892</td>\n",
       "      <td>1.000000</td>\n",
       "      <td>0.932513</td>\n",
       "      <td>0.885259</td>\n",
       "      <td>0.430906</td>\n",
       "    </tr>\n",
       "    <tr>\n",
       "      <th>Viscera weight</th>\n",
       "      <td>0.903226</td>\n",
       "      <td>0.900361</td>\n",
       "      <td>0.786599</td>\n",
       "      <td>0.966092</td>\n",
       "      <td>0.932513</td>\n",
       "      <td>1.000000</td>\n",
       "      <td>0.908703</td>\n",
       "      <td>0.512835</td>\n",
       "    </tr>\n",
       "    <tr>\n",
       "      <th>Shell weight</th>\n",
       "      <td>0.897456</td>\n",
       "      <td>0.904921</td>\n",
       "      <td>0.803864</td>\n",
       "      <td>0.956372</td>\n",
       "      <td>0.885259</td>\n",
       "      <td>0.908703</td>\n",
       "      <td>1.000000</td>\n",
       "      <td>0.632364</td>\n",
       "    </tr>\n",
       "    <tr>\n",
       "      <th>Rings</th>\n",
       "      <td>0.565495</td>\n",
       "      <td>0.582394</td>\n",
       "      <td>0.553198</td>\n",
       "      <td>0.547796</td>\n",
       "      <td>0.430906</td>\n",
       "      <td>0.512835</td>\n",
       "      <td>0.632364</td>\n",
       "      <td>1.000000</td>\n",
       "    </tr>\n",
       "  </tbody>\n",
       "</table>\n",
       "</div>"
      ],
      "text/plain": [
       "                  Length  Diameter    Height  Whole weight  Shucked weight  \\\n",
       "Length          1.000000  0.986902  0.819458      0.924268        0.897061   \n",
       "Diameter        0.986902  1.000000  0.825762      0.925003        0.893228   \n",
       "Height          0.819458  0.825762  1.000000      0.806752        0.763903   \n",
       "Whole weight    0.924268  0.925003  0.806752      1.000000        0.969892   \n",
       "Shucked weight  0.897061  0.893228  0.763903      0.969892        1.000000   \n",
       "Viscera weight  0.903226  0.900361  0.786599      0.966092        0.932513   \n",
       "Shell weight    0.897456  0.904921  0.803864      0.956372        0.885259   \n",
       "Rings           0.565495  0.582394  0.553198      0.547796        0.430906   \n",
       "\n",
       "                Viscera weight  Shell weight     Rings  \n",
       "Length                0.903226      0.897456  0.565495  \n",
       "Diameter              0.900361      0.904921  0.582394  \n",
       "Height                0.786599      0.803864  0.553198  \n",
       "Whole weight          0.966092      0.956372  0.547796  \n",
       "Shucked weight        0.932513      0.885259  0.430906  \n",
       "Viscera weight        1.000000      0.908703  0.512835  \n",
       "Shell weight          0.908703      1.000000  0.632364  \n",
       "Rings                 0.512835      0.632364  1.000000  "
      ]
     },
     "execution_count": 6,
     "metadata": {},
     "output_type": "execute_result"
    }
   ],
   "source": [
    "Train_X.corr() # 특징 간 상관 행렬 출력 => 얼핏봐도 특징 간 선형 관계가 존재"
   ]
  },
  {
   "cell_type": "markdown",
   "metadata": {},
   "source": [
    "#### VIF 기준 특징 선택"
   ]
  },
  {
   "cell_type": "code",
   "execution_count": 7,
   "metadata": {},
   "outputs": [],
   "source": [
    "# VIF 계산\n",
    "from sklearn.linear_model import LinearRegression as LR\n",
    "VIF_dict = dict()\n",
    "for col in Train_X.columns:\n",
    "    model = LR().fit(Train_X.drop([col], axis = 1), Train_X[col])\n",
    "    r2 = model.score(Train_X.drop([col], axis = 1), Train_X[col]) \n",
    "    # LinearRegression의 score가 r2 점수임\n",
    "    VIF = 1 / (1 - r2)\n",
    "    VIF_dict[col] = VIF"
   ]
  },
  {
   "cell_type": "code",
   "execution_count": 8,
   "metadata": {},
   "outputs": [
    {
     "data": {
      "text/plain": [
       "{'Length': 40.82597764588323,\n",
       " 'Diameter': 42.47917359607689,\n",
       " 'Height': 3.3883370642167328,\n",
       " 'Whole weight': 112.11092981307453,\n",
       " 'Shucked weight': 32.22709869372162,\n",
       " 'Viscera weight': 17.30065714301831,\n",
       " 'Shell weight': 21.59410782655036,\n",
       " 'Rings': 2.119675662261056}"
      ]
     },
     "execution_count": 8,
     "metadata": {},
     "output_type": "execute_result"
    }
   ],
   "source": [
    "VIF_dict \n",
    "# Height를 제외하곤 VIF가 모두 높으므로, 이러한 상황에서는 사실 PCA를 사용하는 것이 바람직"
   ]
  },
  {
   "cell_type": "code",
   "execution_count": 8,
   "metadata": {},
   "outputs": [],
   "source": [
    "from sklearn.neural_network import MLPRegressor as MLP\n",
    "from sklearn.metrics import mean_absolute_error as MAE"
   ]
  },
  {
   "cell_type": "code",
   "execution_count": 9,
   "metadata": {},
   "outputs": [
    {
     "name": "stdout",
     "output_type": "stream",
     "text": [
      "1.5276345561460773\n"
     ]
    }
   ],
   "source": [
    "# 전체 특징을 모두 사용하였을 때\n",
    "model = MLP(random_state = 2313, max_iter = 500)\n",
    "model.fit(Train_X, Train_Y)\n",
    "pred_Y = model.predict(Test_X)\n",
    "score = MAE(Test_Y, pred_Y)\n",
    "print(score)"
   ]
  },
  {
   "cell_type": "code",
   "execution_count": 10,
   "metadata": {
    "scrolled": true
   },
   "outputs": [
    {
     "name": "stdout",
     "output_type": "stream",
     "text": [
      "1.5076713980631804\n"
     ]
    }
   ],
   "source": [
    "# VIF 점수가 30점 미만인 특징만 사용하였을 때 \n",
    "selected_features = [key for key, val in VIF_dict.items() if val < 30] \n",
    "model = MLP(random_state = 2313, max_iter = 500)\n",
    "model.fit(Train_X[selected_features], Train_Y)\n",
    "pred_Y = model.predict(Test_X[selected_features])\n",
    "score = MAE(Test_Y, pred_Y)\n",
    "print(score)"
   ]
  },
  {
   "cell_type": "markdown",
   "metadata": {},
   "source": [
    "#### PCA 사용"
   ]
  },
  {
   "cell_type": "code",
   "execution_count": 12,
   "metadata": {},
   "outputs": [
    {
     "name": "stdout",
     "output_type": "stream",
     "text": [
      "(3132, 3)\n"
     ]
    }
   ],
   "source": [
    "from sklearn.decomposition import PCA\n",
    "PCA_model = PCA(n_components = 3).fit(Train_X)\n",
    "\n",
    "Train_Z = PCA_model.transform(Train_X)\n",
    "Test_Z = PCA_model.transform(Test_X)\n",
    "\n",
    "print(Train_Z.shape)"
   ]
  },
  {
   "cell_type": "code",
   "execution_count": 13,
   "metadata": {},
   "outputs": [
    {
     "name": "stdout",
     "output_type": "stream",
     "text": [
      "1.4484133888721893\n"
     ]
    }
   ],
   "source": [
    "model = MLP(random_state = 2313, max_iter = 500)\n",
    "model.fit(Train_Z, Train_Y)\n",
    "pred_Y = model.predict(Test_Z)\n",
    "score = MAE(Test_Y, pred_Y)\n",
    "print(score)"
   ]
  }
 ],
 "metadata": {
  "kernelspec": {
   "display_name": "Python 3 (ipykernel)",
   "language": "python",
   "name": "python3"
  },
  "language_info": {
   "codemirror_mode": {
    "name": "ipython",
    "version": 3
   },
   "file_extension": ".py",
   "mimetype": "text/x-python",
   "name": "python",
   "nbconvert_exporter": "python",
   "pygments_lexer": "ipython3",
   "version": "3.9.12"
  }
 },
 "nbformat": 4,
 "nbformat_minor": 2
}

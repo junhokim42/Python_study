{
 "cells": [
  {
   "cell_type": "code",
   "execution_count": 1,
   "id": "586108ca-6a15-474d-8975-070807e6f47f",
   "metadata": {
    "tags": []
   },
   "outputs": [
    {
     "name": "stdout",
     "output_type": "stream",
     "text": [
      "URL 문자열 : http://unico2013.dothome.co.kr/crawling/exercise.php?category=%EC%97%AD%EC%82%AC&page=25\n",
      "﻿<!DOCTYPE html>\n",
      "<html>  \n",
      "  <head>    \n",
      "   <meta charset=\"utf-8\">    \n",
      "   <title>TEST</title>  \n",
      "  </head>  \n",
      "  <body>   \n",
      "    <h1 style='color : red'>카테고리 : 역사</h1>\n",
      "    <h2 style='color : blue'>페이지 : 25</h2>   \n",
      "  </body>\n",
      "</html>\n"
     ]
    }
   ],
   "source": [
    "import urllib.request\n",
    "import urllib.parse\n",
    "\n",
    "params = urllib.parse.urlencode({'category':'역사', 'page':25})\n",
    "urlstr = \"http://unico2013.dothome.co.kr/crawling/exercise.php?%s\" %params\n",
    "print(\"URL 문자열 :\", urlstr)\n",
    "with urllib.request.urlopen(urlstr) as h:\n",
    "    print(h.read().decode('utf-8'))"
   ]
  },
  {
   "cell_type": "code",
   "execution_count": 1,
   "id": "3d5c246a-ddc2-4ad4-81de-768839b117f8",
   "metadata": {},
   "outputs": [
    {
     "name": "stdout",
     "output_type": "stream",
     "text": [
      "URL 문자열 : http://unico2013.dothome.co.kr/crawling/exercise.php?category=%EC%97%AC%ED%96%89&page=100 \n",
      "\n",
      "ï»¿<!DOCTYPE html>\n",
      "<html>  \n",
      "  <head>    \n",
      "   <meta charset=\"utf-8\">    \n",
      "   <title>TEST</title>  \n",
      "  </head>  \n",
      "  <body>   \n",
      "    <h1 style='color : red'>ì¹´í",
      "ê³ ë¦¬ : ì¬í</h1>\n",
      "    <h2 style='color : blue'>íì´ì§ : 100</h2>   \n",
      "  </body>\n",
      "</html>\n"
     ]
    }
   ],
   "source": [
    "import requests\n",
    "\n",
    "urlstr = \"http://unico2013.dothome.co.kr/crawling/exercise.php\"\n",
    "dicdata = {'category':'여행', 'page':100}\n",
    "r = requests.get(urlstr, params=dicdata)\n",
    "print(\"URL 문자열 :\", r.url, \"\\n\")\n",
    "#r.encoding = \"utf-8\"\n",
    "print(r.text)"
   ]
  },
  {
   "cell_type": "code",
   "execution_count": null,
   "id": "7288ea15-3457-45e5-8a47-37f5182c7130",
   "metadata": {},
   "outputs": [],
   "source": []
  }
 ],
 "metadata": {
  "kernelspec": {
   "display_name": "eduvenv",
   "language": "python",
   "name": "eduvenv"
  },
  "language_info": {
   "codemirror_mode": {
    "name": "ipython",
    "version": 3
   },
   "file_extension": ".py",
   "mimetype": "text/x-python",
   "name": "python",
   "nbconvert_exporter": "python",
   "pygments_lexer": "ipython3",
   "version": "3.9.13"
  }
 },
 "nbformat": 4,
 "nbformat_minor": 5
}

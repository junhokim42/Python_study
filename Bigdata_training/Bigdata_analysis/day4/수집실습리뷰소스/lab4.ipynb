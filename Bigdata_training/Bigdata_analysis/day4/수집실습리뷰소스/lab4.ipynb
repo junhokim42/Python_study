{
 "cells": [
  {
   "cell_type": "markdown",
   "id": "77d69be1-0006-487a-a3bb-50356dbcd012",
   "metadata": {},
   "source": [
    "### 소스 1"
   ]
  },
  {
   "cell_type": "code",
   "execution_count": 6,
   "id": "89e26653-936e-4976-a075-1cc15aa62742",
   "metadata": {},
   "outputs": [],
   "source": [
    "from selenium import webdriver\n",
    "from selenium.webdriver.common.keys import Keys \n",
    "from selenium.webdriver.common.by import By\n",
    "from selenium.webdriver.chrome.service import Service\n",
    "\n",
    "driver = webdriver.Chrome(service=Service('C:/Temp/chromedriver'))\n",
    "driver.get('https://www.naver.com/')\n",
    "target=driver.find_element(By.CSS_SELECTOR, \"[name = 'query']\")\n",
    "target.send_keys('파이썬')\n",
    "target.send_keys(Keys.ENTER)"
   ]
  },
  {
   "cell_type": "code",
   "execution_count": 7,
   "id": "89e1c207-cc7c-4eb0-8370-c9b62371b203",
   "metadata": {},
   "outputs": [],
   "source": [
    "driver = webdriver.Chrome(service=Service('C:/Temp/chromedriver'))\n",
    "driver.get('https://www.naver.com/')\n",
    "target=driver.find_element(By.ID, \"query\")\n",
    "target.send_keys('파이썬')\n",
    "target.send_keys(Keys.ENTER)"
   ]
  },
  {
   "cell_type": "code",
   "execution_count": 8,
   "id": "7d0b5032-2c10-4156-859f-ba1ed11f57b3",
   "metadata": {},
   "outputs": [],
   "source": [
    "driver = webdriver.Chrome(service=Service('C:/Temp/chromedriver'))\n",
    "driver.get('https://www.naver.com/')\n",
    "target=driver.find_element(By.CLASS_NAME, \"input_text\")\n",
    "target.send_keys('파이썬')\n",
    "target.send_keys(Keys.ENTER)"
   ]
  },
  {
   "cell_type": "markdown",
   "id": "768b0e6c-da22-4b5f-986a-013008d29620",
   "metadata": {},
   "source": [
    "### 소스 2"
   ]
  },
  {
   "cell_type": "code",
   "execution_count": 2,
   "id": "127488a9-cfbb-49e7-a030-47de107a3f0c",
   "metadata": {
    "tags": []
   },
   "outputs": [],
   "source": [
    "from selenium import webdriver\n",
    "from selenium.webdriver.common.keys import Keys \n",
    "from selenium.webdriver.common.by import By\n",
    "from selenium.webdriver.chrome.service import Service\n",
    "\n",
    "driver = webdriver.Chrome(service=Service('C:/Temp/chromedriver')) "
   ]
  },
  {
   "cell_type": "code",
   "execution_count": 5,
   "id": "2b298819-46ab-451d-ad30-9357d1f7a7c1",
   "metadata": {},
   "outputs": [],
   "source": [
    "driver.get('http://www.naver.com/') "
   ]
  },
  {
   "cell_type": "code",
   "execution_count": 4,
   "id": "65e30066-b766-43ba-b936-ff00f841043d",
   "metadata": {},
   "outputs": [],
   "source": [
    "target=driver.find_element(By.CSS_SELECTOR, \"[name = 'query']\")\n",
    "target.send_keys('파이썬')\n",
    "target.send_keys(Keys.ENTER) "
   ]
  },
  {
   "cell_type": "code",
   "execution_count": 15,
   "id": "9b7d5443-d13f-4395-9062-03b092bc8dd9",
   "metadata": {},
   "outputs": [],
   "source": [
    "byId = driver.find_element(By.ID,'query')\n",
    "byId.send_keys('파이썬')\n",
    "byId.send_keys(Keys.ENTER)"
   ]
  },
  {
   "cell_type": "code",
   "execution_count": 17,
   "id": "a777865b-81e1-4df0-a914-324c97560efc",
   "metadata": {},
   "outputs": [],
   "source": [
    "byClassName=driver.find_element(By.CLASS_NAME, \"input_text\")\n",
    "byClassName.send_keys('파이썬')\n",
    "byClassName.send_keys(Keys.ENTER)"
   ]
  },
  {
   "cell_type": "code",
   "execution_count": null,
   "id": "0d6bab29-fe48-4553-b95b-8ef5220f9930",
   "metadata": {},
   "outputs": [],
   "source": []
  }
 ],
 "metadata": {
  "kernelspec": {
   "display_name": "eduvenv",
   "language": "python",
   "name": "eduvenv"
  },
  "language_info": {
   "codemirror_mode": {
    "name": "ipython",
    "version": 3
   },
   "file_extension": ".py",
   "mimetype": "text/x-python",
   "name": "python",
   "nbconvert_exporter": "python",
   "pygments_lexer": "ipython3",
   "version": "3.9.13"
  }
 },
 "nbformat": 4,
 "nbformat_minor": 5
}

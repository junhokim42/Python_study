{
 "cells": [
  {
   "cell_type": "code",
   "execution_count": 4,
   "metadata": {},
   "outputs": [
    {
     "name": "stdout",
     "output_type": "stream",
     "text": [
      "<class 'pandas.core.series.Series'>\n",
      "0    10\n",
      "1    20\n",
      "2    30\n",
      "3    40\n",
      "4    50\n",
      "dtype: int64\n"
     ]
    }
   ],
   "source": [
    "# Problem1\n",
    "\n",
    "import pandas as pd\n",
    "\n",
    "data = [10, 20, 30, 40, 50]\n",
    "result1 = pd.Series(data)\n",
    "print(type(result1))\n",
    "print(result1)"
   ]
  },
  {
   "cell_type": "code",
   "execution_count": 5,
   "metadata": {},
   "outputs": [
    {
     "name": "stdout",
     "output_type": "stream",
     "text": [
      "<class 'pandas.core.series.Series'>\n",
      "a    1\n",
      "b    2\n",
      "c    3\n",
      "d    4\n",
      "e    5\n",
      "dtype: int64\n"
     ]
    }
   ],
   "source": [
    "# Problem2\n",
    "\n",
    "data = {'a':1, 'b':2, 'c':3, 'd':4, 'e':5}\n",
    "result2 = pd.Series(data)\n",
    "print(type(result2))\n",
    "print(result2)\n"
   ]
  },
  {
   "cell_type": "code",
   "execution_count": 6,
   "metadata": {},
   "outputs": [
    {
     "name": "stdout",
     "output_type": "stream",
     "text": [
      "<class 'pandas.core.series.Series'>\n",
      "학생1     둘리\n",
      "학생2     또치\n",
      "학생3    도우너\n",
      "학생4    희동이\n",
      "학생5    마이콜\n",
      "dtype: object\n"
     ]
    }
   ],
   "source": [
    "# Problem3\n",
    "\n",
    "data = {'학생1':'둘리', '학생2':'또치', '학생3':'도우너', '학생4':'희동이', '학생5':'마이콜'}\n",
    "result3 = pd.Series(data)\n",
    "print(type(result3))\n",
    "print(result3)"
   ]
  },
  {
   "cell_type": "code",
   "execution_count": 8,
   "metadata": {},
   "outputs": [
    {
     "name": "stdout",
     "output_type": "stream",
     "text": [
      "<class 'pandas.core.series.Series'>\n",
      "학생1     둘리\n",
      "학생2     또치\n",
      "학생3    도우너\n",
      "학생4    희동이\n",
      "학생5    마이콜\n",
      "dtype: object\n"
     ]
    }
   ],
   "source": [
    "# Problem4\n",
    "\n",
    "data = ['둘리', '또치', '도우너', '희동이', '마이콜']\n",
    "result4 = pd.Series(data, index=['학생1', '학생2', '학생3', '학생4', '학생5'])\n",
    "print(type(result4))\n",
    "print(result4)"
   ]
  },
  {
   "cell_type": "code",
   "execution_count": 28,
   "metadata": {},
   "outputs": [
    {
     "name": "stdout",
     "output_type": "stream",
     "text": [
      "[시리즈 sr 출력]\n",
      "A형     34.2\n",
      "B형     27.1\n",
      "O형     26.7\n",
      "AB형    11.5\n",
      "dtype: float64\n",
      "\n",
      "[시리즈 sr에서 인덱싱과 슬라이싱하여 출력 (숫자인덱스)]\n",
      "34.2\n",
      "11.5\n",
      "27.1\n",
      "B형     27.1\n",
      "O형     26.7\n",
      "AB형    11.5\n",
      "dtype: float64\n",
      "\n",
      "[시리즈 sr에서 인덱싱과 슬라이싱하여 출력 (이름인덱스)]\n",
      "34.2\n",
      "11.5\n",
      "27.1\n",
      "B형     27.1\n",
      "O형     26.7\n",
      "AB형    11.5\n",
      "dtype: float64\n",
      "\n",
      "[시리즈 sr의 크기 출력]\n",
      "4\n",
      "\n",
      "[시리즈 sr의 인덱스 출력]\n",
      "Index(['A형', 'B형', 'O형', 'AB형'], dtype='object')\n",
      "\n",
      "[시리즈 sr의 데이터값 출력]\n",
      "[34.2, 27.1, 26.7, 11.5]\n",
      "\n"
     ]
    }
   ],
   "source": [
    "# Problem5\n",
    "\n",
    "blood = ['A형', 'B형', 'O형', 'AB형']\n",
    "st = [34.2, 27.1, 26.7, 11.5]\n",
    "sr = pd.Series(st, index = blood)\n",
    "\n",
    "print('[시리즈 sr 출력]')\n",
    "print(sr)\n",
    "print()\n",
    "\n",
    "print('[시리즈 sr에서 인덱싱과 슬라이싱하여 출력 (숫자인덱스)]')\n",
    "print(sr[0])\n",
    "print(sr[-1])\n",
    "print(sr[1])\n",
    "print(sr[1:4])\n",
    "print()\n",
    "\n",
    "print('[시리즈 sr에서 인덱싱과 슬라이싱하여 출력 (이름인덱스)]')\n",
    "print(sr['A형'])\n",
    "print(sr['AB형'])\n",
    "print(sr['B형'])\n",
    "print(sr['B형':'AB형'])\n",
    "print()\n",
    "\n",
    "print('[시리즈 sr의 크기 출력]')\n",
    "print(len(sr))\n",
    "print()\n",
    "\n",
    "print('[시리즈 sr의 인덱스 출력]')\n",
    "print(sr.index)\n",
    "print()\n",
    "\n",
    "print('[시리즈 sr의 데이터값 출력]')\n",
    "print(st)\n",
    "print()"
   ]
  },
  {
   "cell_type": "code",
   "execution_count": 33,
   "metadata": {},
   "outputs": [
    {
     "name": "stdout",
     "output_type": "stream",
     "text": [
      "  name  kor  eng  mat\n",
      "0   둘리   90   99   90\n",
      "1   또치   80   98   70\n",
      "2  도우너   70   97   70\n",
      "3  희동이   70   46   60\n"
     ]
    }
   ],
   "source": [
    "# Problem6\n",
    "\n",
    "data = {'name' : [ '둘리', '또치', '도우너', '희동이'],\n",
    "             'kor' : [ 90, 80, 70, 70],\n",
    "             'eng' : [ 99, 98, 97, 46],\n",
    "             'mat' : [ 90, 70, 70, 60]}\n",
    "\n",
    "result6 = pd.DataFrame(data)\n",
    "print(result6)\n"
   ]
  },
  {
   "cell_type": "code",
   "execution_count": 35,
   "metadata": {},
   "outputs": [
    {
     "name": "stdout",
     "output_type": "stream",
     "text": [
      "    name  kor  eng  mat\n",
      "학생1   둘리   90   99   90\n",
      "학생2   또치   80   98   70\n",
      "학생3  도우너   70   97   70\n",
      "학생4  희동이   70   46   60\n"
     ]
    }
   ],
   "source": [
    "# Problem7\n",
    "\n",
    "result6.index = ['학생1', '학생2', '학생3', '학생4']\n",
    "print(result6)\n",
    "\n",
    "# result6.set_index('이름', inplace=True)"
   ]
  },
  {
   "cell_type": "code",
   "execution_count": 36,
   "metadata": {},
   "outputs": [
    {
     "name": "stdout",
     "output_type": "stream",
     "text": [
      "    dooly  doochi  dounar  heedong\n",
      "st1    둘리      90      99       90\n",
      "st2    또치      80      98       70\n",
      "st3   도우너      70      97       70\n",
      "st4   희동이      70      46       60\n"
     ]
    }
   ],
   "source": [
    "# Problem8\n",
    "\n",
    "result6.rename(index={'학생1':'st1', '학생2':'st2', '학생3':'st3','학생4':'st4'}, inplace=True)\n",
    "result6.rename(columns={'name':'dooly', 'kor':'doochi', 'eng':'dounar','mat':'heedong'}, inplace=True)\n",
    "print(result6)"
   ]
  },
  {
   "cell_type": "code",
   "execution_count": 75,
   "metadata": {},
   "outputs": [
    {
     "name": "stdout",
     "output_type": "stream",
     "text": [
      "  name  kor  eng  mat\n",
      "0  듀크1   90   99   90\n",
      "1  듀크2   80   98   70\n",
      "2  듀크3   70   97   70\n",
      "3  듀크4   70   46   60\n",
      "4  듀크5   60   77   88\n",
      "5  듀크6   70   56   99\n",
      "6  듀크7   90   90   90\n"
     ]
    }
   ],
   "source": [
    "# Problem9\n",
    "\n",
    "data = {'name':['듀크1', '듀크2', '듀크3', '듀크4', '듀크5', '듀크6', '듀크7'],\n",
    "        'kor':[90, 80, 70, 70, 60, 70, 90],\n",
    "        'eng':[99, 98, 97, 46, 77, 56, 90],\n",
    "        'mat':[90, 70, 70, 60, 88, 99, 90]}\n",
    "\n",
    "df = pd.DataFrame(data)\n",
    "\n",
    "print(df)"
   ]
  },
  {
   "cell_type": "code",
   "execution_count": 46,
   "metadata": {},
   "outputs": [
    {
     "name": "stdout",
     "output_type": "stream",
     "text": [
      "  name  kor  eng  mat\n",
      "0  듀크1   90   99   90\n",
      "1  듀크2   80   98   70\n",
      "2  듀크3   70   97   70\n",
      "3  듀크4   70   46   60\n",
      "4  듀크5   60   77   88\n",
      "\n",
      "  name  kor  eng  mat\n",
      "2  듀크3   70   97   70\n",
      "3  듀크4   70   46   60\n",
      "4  듀크5   60   77   88\n",
      "5  듀크6   70   56   99\n",
      "6  듀크7   90   90   90\n",
      "\n",
      "Index(['name', 'kor', 'eng', 'mat'], dtype='object')\n"
     ]
    }
   ],
   "source": [
    "print(df[:5])\n",
    "print()\n",
    "\n",
    "print(df[-5:])\n",
    "print()\n",
    "\n",
    "print(df.columns)"
   ]
  },
  {
   "cell_type": "code",
   "execution_count": 62,
   "metadata": {},
   "outputs": [
    {
     "name": "stdout",
     "output_type": "stream",
     "text": [
      "0    듀크1\n",
      "1    듀크2\n",
      "2    듀크3\n",
      "3    듀크4\n",
      "4    듀크5\n",
      "5    듀크6\n",
      "6    듀크7\n",
      "Name: name, dtype: object\n",
      "\n",
      "0    99\n",
      "1    98\n",
      "2    97\n",
      "3    46\n",
      "4    77\n",
      "5    56\n",
      "6    90\n",
      "Name: eng, dtype: int64\n",
      "\n",
      "   kor  mat\n",
      "0   90   90\n",
      "1   80   70\n",
      "2   70   70\n",
      "3   70   60\n",
      "4   60   88\n",
      "5   70   99\n",
      "6   90   90\n"
     ]
    }
   ],
   "source": [
    "print(df['name'])\n",
    "print()\n",
    "\n",
    "print(df.eng)\n",
    "print()\n",
    "\n",
    "df_copy = df.copy()\n",
    "df_copy.drop(['name', 'eng'], axis=1, inplace=True)\n",
    "print(df_copy)"
   ]
  },
  {
   "cell_type": "code",
   "execution_count": 139,
   "metadata": {},
   "outputs": [
    {
     "name": "stdout",
     "output_type": "stream",
     "text": [
      "iloc 함수 사용 -------------------\n",
      "name    듀크4\n",
      "kor      70\n",
      "eng      46\n",
      "mat      60\n",
      "Name: 3, dtype: object\n",
      "\n",
      "듀크1\n",
      "\n",
      "46\n",
      "\n",
      "2    97\n",
      "3    46\n",
      "Name: eng, dtype: int64\n",
      "\n",
      "   eng  mat\n",
      "2   97   70\n",
      "3   46   60\n",
      "\n"
     ]
    }
   ],
   "source": [
    "print('iloc 함수 사용 -------------------')\n",
    "print(df.iloc[3])\n",
    "print()\n",
    "\n",
    "print(df.iloc[0][0])\n",
    "print()\n",
    "\n",
    "print(df.iloc[3][2])\n",
    "print()\n",
    "\n",
    "print(df.iloc[2:4,2])\n",
    "print()\n",
    "\n",
    "print(df.iloc[2:4,2:4])\n",
    "print()"
   ]
  },
  {
   "cell_type": "code",
   "execution_count": 135,
   "metadata": {},
   "outputs": [
    {
     "name": "stdout",
     "output_type": "stream",
     "text": [
      "loc 함수 사용 -------------------\n",
      "name    듀크4\n",
      "kor      70\n",
      "eng      46\n",
      "mat      60\n",
      "Name: 3, dtype: object\n",
      "\n",
      "듀크1\n",
      "\n",
      "46\n",
      "\n",
      "2    97\n",
      "3    46\n",
      "Name: eng, dtype: int64\n",
      "\n",
      "   eng  mat\n",
      "2   97   70\n",
      "3   46   60\n",
      "\n"
     ]
    }
   ],
   "source": [
    "print('loc 함수 사용 -------------------')\n",
    "print(df.loc[3])\n",
    "print()\n",
    "\n",
    "print(df.loc[0][0])\n",
    "print()\n",
    "\n",
    "print(df.loc[3][2])\n",
    "print()\n",
    "\n",
    "print(df.loc[2:3,'eng'])\n",
    "print()\n",
    "\n",
    "print(df.loc[2:3,'eng':'mat'])\n",
    "print()"
   ]
  },
  {
   "cell_type": "code",
   "execution_count": 74,
   "metadata": {},
   "outputs": [
    {
     "name": "stdout",
     "output_type": "stream",
     "text": [
      "      kor  eng  mat\n",
      "name               \n",
      "듀크1    90   99   90\n",
      "듀크2    80   98   70\n",
      "듀크3    70   97   70\n",
      "듀크4    70   46   60\n",
      "듀크5    60   77   88\n",
      "듀크6    70   56   99\n",
      "듀크7    90   90   90\n"
     ]
    }
   ],
   "source": [
    "print(df.set_index('name'))"
   ]
  }
 ],
 "metadata": {
  "kernelspec": {
   "display_name": "Python 3.10.8 64-bit (microsoft store)",
   "language": "python",
   "name": "python3"
  },
  "language_info": {
   "codemirror_mode": {
    "name": "ipython",
    "version": 3
   },
   "file_extension": ".py",
   "mimetype": "text/x-python",
   "name": "python",
   "nbconvert_exporter": "python",
   "pygments_lexer": "ipython3",
   "version": "3.10.8"
  },
  "orig_nbformat": 4,
  "vscode": {
   "interpreter": {
    "hash": "34cedc79af05b422fdf29f99b117d39538396108f2fa338b8979780fbc124c5c"
   }
  }
 },
 "nbformat": 4,
 "nbformat_minor": 2
}

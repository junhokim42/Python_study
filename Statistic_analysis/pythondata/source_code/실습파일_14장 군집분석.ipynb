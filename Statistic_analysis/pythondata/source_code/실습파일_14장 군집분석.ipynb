{
 "cells": [
  {
   "cell_type": "markdown",
   "metadata": {},
   "source": [
    "# 14장 군집분석\n",
    "\n",
    "## 14.2 계층적 군집분석\n",
    "### 분석 시나리오\n",
    "\n",
    "A쇼핑은 RFM 기반의 고객세분화를 수행하고자 500명의 고객을 무작위로 샘플링 하여 Recency, Frequency, Monetary 세 가지 변수를 통한 계층적 군집분석을 진행하고자 한다."
   ]
  },
  {
   "cell_type": "code",
   "execution_count": 1,
   "metadata": {},
   "outputs": [
    {
     "name": "stdout",
     "output_type": "stream",
     "text": [
      "[[969.         979.           2.43557142  72.        ]\n",
      " [978.         988.           2.60070576  33.        ]\n",
      " [984.         991.           2.78913055  40.        ]\n",
      " [981.         989.           3.05800305 374.        ]\n",
      " [986.         990.           3.11871825  81.        ]\n",
      " [161.         993.           3.55293738 375.        ]\n",
      " [994.         995.           3.67802103 456.        ]\n",
      " [987.         992.           3.97824721  44.        ]\n",
      " [996.         997.           6.01862823 500.        ]]\n"
     ]
    }
   ],
   "source": [
    "#1. 모듈 및 데이터 탑재\n",
    "import pandas as pd\n",
    "from scipy.cluster.hierarchy import linkage\n",
    "df = pd.read_csv('Ashopping.csv',sep=',', encoding='CP949')\n",
    "data_temp = df.sample(n=500, random_state=111) \n",
    "X = data_temp[['Recency','Frequency','Monetary']]\n",
    "\n",
    "#2. 계층적 군집분석\n",
    "cluster= linkage(X, method = 'average', metric='euclidean') \n",
    "print(cluster[490:])"
   ]
  },
  {
   "cell_type": "code",
   "execution_count": 2,
   "metadata": {},
   "outputs": [
    {
     "data": {
      "image/png": "[encoded data removed]",
      "text/plain": [
       "<Figure size 432x288 with 1 Axes>"
      ]
     },
     "metadata": {
      "needs_background": "light"
     },
     "output_type": "display_data"
    }
   ],
   "source": [
    "#1. 모듈 불러오기\n",
    "from scipy.cluster.hierarchy import dendrogram\n",
    "import matplotlib.pyplot as plt\n",
    "#2 덴드로그램 그리기\n",
    "%matplotlib inline\n",
    "plt.title('Dendrogram')\n",
    "plt.xlabel('index')\n",
    "plt.ylabel('distance')\n",
    "dendrogram(cluster)\n",
    "plt.show()"
   ]
  },
  {
   "cell_type": "markdown",
   "metadata": {},
   "source": [
    "## 14.3 비계층적 군집분석\n",
    "### 분석 시나리오\n",
    "\n",
    "앞서 계층적 군집분석의 실습에서 진행해본 RFM 기반의 고객세분화를 K 평균 군집분석으로도 수행해보자."
   ]
  },
  {
   "cell_type": "code",
   "execution_count": 3,
   "metadata": {},
   "outputs": [
    {
     "name": "stdout",
     "output_type": "stream",
     "text": [
      "군집1의 고객 수\n",
      " 512\n",
      "군집2의 고객 수\n",
      " 77\n",
      "군집3의 고객 수\n",
      " 411\n",
      "군집1의 RFM평균\n",
      " 6.8359375 3.212890625 2.892578125\n",
      "군집2의 RFM평균\n",
      " 1.7792207792207793 3.207792207792208 3.7532467532467533\n",
      "군집3의 RFM평균\n",
      " 6.9391727493917275 4.600973236009732 5.768856447688565\n"
     ]
    },
    {
     "name": "stderr",
     "output_type": "stream",
     "text": [
      "<ipython-input-3-4390df329e07>:9: SettingWithCopyWarning: \n",
      "A value is trying to be set on a copy of a slice from a DataFrame.\n",
      "Try using .loc[row_indexer,col_indexer] = value instead\n",
      "\n",
      "See the caveats in the documentation: https://pandas.pydata.org/pandas-docs/stable/user_guide/indexing.html#returning-a-view-versus-a-copy\n",
      "  X['cluster_id'] = model.labels_\n"
     ]
    }
   ],
   "source": [
    "#1. 모듈 및 데이터 탑재\n",
    "import pandas as pd\n",
    "from sklearn.cluster import KMeans\n",
    "df = pd.read_csv('Ashopping.csv',sep=',', encoding='CP949')\n",
    "X = df[['Recency','Frequency','Monetary']] \n",
    "\n",
    "#2. 비계층적 군집분석\n",
    "model = KMeans(n_clusters=3, max_iter=20, random_state=19).fit(X) \n",
    "X['cluster_id'] = model.labels_ \n",
    "\n",
    "#3. 군집별 고객 수 확인\n",
    "clu1 = X[X.cluster_id==0]\n",
    "clu2 = X[X.cluster_id==1]\n",
    "clu3 = X[X.cluster_id==2]\n",
    "print('군집1의 고객 수\\n',clu1.cluster_id.count())\n",
    "print('군집2의 고객 수\\n',clu2.cluster_id.count())\n",
    "print('군집3의 고객 수\\n',clu3.cluster_id.count())\n",
    "\n",
    "#4. 군집별 평균 RFM 확인\n",
    "print('군집1의 RFM평균\\n',clu1.Recency.mean(),clu1.Frequency.mean(),clu1.Monetary.mean())\n",
    "print('군집2의 RFM평균\\n',clu2.Recency.mean(),clu2.Frequency.mean(),clu2.Monetary.mean())\n",
    "print('군집3의 RFM평균\\n',clu3.Recency.mean(),clu3.Frequency.mean(),clu3.Monetary.mean())"
   ]
  }
 ],
 "metadata": {
  "kernelspec": {
   "display_name": "Python 3",
   "language": "python",
   "name": "python3"
  },
  "language_info": {
   "codemirror_mode": {
    "name": "ipython",
    "version": 3
   },
   "file_extension": ".py",
   "mimetype": "text/x-python",
   "name": "python",
   "nbconvert_exporter": "python",
   "pygments_lexer": "ipython3",
   "version": "3.8.8"
  }
 },
 "nbformat": 4,
 "nbformat_minor": 2
}

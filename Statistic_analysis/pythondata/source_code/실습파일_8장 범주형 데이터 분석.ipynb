{
 "cells": [
  {
   "cell_type": "markdown",
   "metadata": {},
   "source": [
    "# 8장 범주형 데이터 분석\n",
    "\n",
    "## 8.1 적합도 검정\n",
    "### 분석 및 해석\n",
    "\n",
    "A쇼핑은 클레임고객들의 구매 패턴이 어떻게 다른지 파악하고자 클레임 고객들의 구매유형 별 비율의 적합도 검정을 시행하고자 한다. 기존에 알려진 A 쇼핑의 클레임고객들의 구매 유형별 비율은 1회성 구매형 고객 10%, 실용적 구매형 30%, 명품 구매형 20%, 그리고 집중 구매형 40%로 알려 있었다."
   ]
  },
  {
   "attachments": {
    "image.png": {
     "image/png": "[encoded data removed]"
    }
   },
   "cell_type": "markdown",
   "metadata": {},
   "source": [
    "![image.png](attachment:image.png)"
   ]
  },
  {
   "cell_type": "markdown",
   "metadata": {},
   "source": [
    "이를 위한 가설수립은 다음과 같이 할 수 있다. \n",
    "\n",
    "#### H0 (귀무가설)= 클레임 접수 고객의 구매유형별 비율은 1회성 구매형 10%, 실용적 구매형 30%, 명품 구매형 20%, 집중 구매형 40%이다.\n",
    "#### H1 (연구가설)= 클레임 접수 고객의 구매유형별 비율은 1회성 구매형 10%, 실용적 구매형 30%, 명품 구매형 20%, 집중 구매형 40%이 아니다. \n"
   ]
  },
  {
   "cell_type": "code",
   "execution_count": 1,
   "metadata": {},
   "outputs": [
    {
     "data": {
      "text/html": [
       "<div>\n",
       "<style scoped>\n",
       "    .dataframe tbody tr th:only-of-type {\n",
       "        vertical-align: middle;\n",
       "    }\n",
       "\n",
       "    .dataframe tbody tr th {\n",
       "        vertical-align: top;\n",
       "    }\n",
       "\n",
       "    .dataframe thead th {\n",
       "        text-align: right;\n",
       "    }\n",
       "</style>\n",
       "<table border=\"1\" class=\"dataframe\">\n",
       "  <thead>\n",
       "    <tr style=\"text-align: right;\">\n",
       "      <th>구매유형</th>\n",
       "      <th>1</th>\n",
       "      <th>2</th>\n",
       "      <th>3</th>\n",
       "      <th>4</th>\n",
       "      <th>All</th>\n",
       "    </tr>\n",
       "    <tr>\n",
       "      <th>클레임접수여부</th>\n",
       "      <th></th>\n",
       "      <th></th>\n",
       "      <th></th>\n",
       "      <th></th>\n",
       "      <th></th>\n",
       "    </tr>\n",
       "  </thead>\n",
       "  <tbody>\n",
       "    <tr>\n",
       "      <th>0</th>\n",
       "      <td>24</td>\n",
       "      <td>197</td>\n",
       "      <td>57</td>\n",
       "      <td>263</td>\n",
       "      <td>541</td>\n",
       "    </tr>\n",
       "    <tr>\n",
       "      <th>1</th>\n",
       "      <td>19</td>\n",
       "      <td>120</td>\n",
       "      <td>87</td>\n",
       "      <td>233</td>\n",
       "      <td>459</td>\n",
       "    </tr>\n",
       "    <tr>\n",
       "      <th>All</th>\n",
       "      <td>43</td>\n",
       "      <td>317</td>\n",
       "      <td>144</td>\n",
       "      <td>496</td>\n",
       "      <td>1000</td>\n",
       "    </tr>\n",
       "  </tbody>\n",
       "</table>\n",
       "</div>"
      ],
      "text/plain": [
       "구매유형      1    2    3    4   All\n",
       "클레임접수여부                         \n",
       "0        24  197   57  263   541\n",
       "1        19  120   87  233   459\n",
       "All      43  317  144  496  1000"
      ]
     },
     "execution_count": 1,
     "metadata": {},
     "output_type": "execute_result"
    }
   ],
   "source": [
    "#1. 모듈 및 데이터 탑재\n",
    "import pandas as pd\n",
    "import numpy as np\n",
    "from scipy import stats\n",
    "df = pd.read_csv('Ashopping.csv', sep=',', encoding='CP949')\n",
    "\n",
    "#2. 빈도교차표 생성하기\n",
    "X=pd.crosstab(df.클레임접수여부, df.구매유형, margins=True)\n",
    "X"
   ]
  },
  {
   "cell_type": "code",
   "execution_count": 2,
   "metadata": {},
   "outputs": [
    {
     "data": {
      "text/plain": [
       "Power_divergenceResult(statistic=31.582788671023955, pvalue=6.407672361002909e-07)"
      ]
     },
     "execution_count": 2,
     "metadata": {},
     "output_type": "execute_result"
    }
   ],
   "source": [
    "#1. 관측도수, 기대도수 추출하기\n",
    "Ob = X.values[1,:4]\n",
    "Pr = np.array([0.1,0.3,0.2,0.4])\n",
    "n= X.values[1,4]\n",
    "E= n*Pr\n",
    "\n",
    "#2. 카이제곱 적합도 검정하기\n",
    "stats.chisquare(Ob, E)"
   ]
  },
  {
   "cell_type": "markdown",
   "metadata": {},
   "source": [
    "## 8.2 독립성 검정\n",
    "### 분석 및 해석\n",
    "\n",
    "A쇼핑의 클레임 문제를 다시 한번 다루어 보자. A쇼핑은 이번에 클레임을 제기하는 고객은 성별과 무관하지 않을 것 같다는 전제를 가지고 클레임 접수여부와 성별간의 독립성 검정을 수행해보고자 한다. \n"
   ]
  },
  {
   "attachments": {
    "image.png": {
     "image/png": "[encoded data removed]"
    }
   },
   "cell_type": "markdown",
   "metadata": {},
   "source": [
    "![image.png](attachment:image.png)"
   ]
  },
  {
   "cell_type": "markdown",
   "metadata": {},
   "source": [
    "이를 위한 가설 수립은 다음과 같이 할 수 있다. \n",
    "#### H0 (귀무가설)= 클레임 접수 여부와 성별은 연관성이 없다.\n",
    "#### H1 (연구가설)= 클레임 접수 여부와 성별은 연관성이 있다."
   ]
  },
  {
   "cell_type": "code",
   "execution_count": 3,
   "metadata": {},
   "outputs": [
    {
     "data": {
      "text/plain": [
       "(106.43790651350751,\n",
       " 5.911607287197053e-25,\n",
       " 1,\n",
       " array([[ 80.609,  68.391],\n",
       "        [460.391, 390.609]]))"
      ]
     },
     "execution_count": 3,
     "metadata": {},
     "output_type": "execute_result"
    }
   ],
   "source": [
    "#1. 모듈 및 데이터 탑재\n",
    "import pandas as pd\n",
    "import numpy as np\n",
    "from scipy import stats\n",
    "df = pd.read_csv('Ashopping.csv', sep=',', encoding='CP949')\n",
    "\n",
    "#2. 빈도교차표 생성하기\n",
    "X=pd.crosstab(df.성별, df.클레임접수여부, margins=False)\n",
    "\n",
    "#3. 카이제곱 독립성 검정하기\n",
    "stats.chi2_contingency(X)"
   ]
  },
  {
   "cell_type": "markdown",
   "metadata": {},
   "source": [
    "## 8.3 동질성 검정\n",
    "### 분석 및 해석\n",
    "\n",
    "A쇼핑은 자사가 관리하는 구매유형 4가지의 비율이 청년층 그룹과 중장년층 그룹에 따라 동질적인지 검토하여 연령대별 마케팅 전략에 활용하고자 한다. 이를 위해 고객연령 그룹에 대한 구매유형 비율의 동질성 검정을 실시해보자.\n",
    "\n",
    "A쇼핑에서 사용하는 고객 구매유형과 고객 나이대에 대한 코드는 아래 표와 같다."
   ]
  },
  {
   "attachments": {
    "image.png": {
     "image/png": "[encoded data removed]"
    }
   },
   "cell_type": "markdown",
   "metadata": {},
   "source": [
    "![image.png](attachment:image.png)"
   ]
  },
  {
   "cell_type": "markdown",
   "metadata": {},
   "source": [
    "\n",
    "고객 연령대는 총 9개의 세부 그룹으로 이루어져 있으나, 39세 이하를 청년층 그룹으로, 40세 이상을 중장년층 그룹으로 분류하여 두 개의 다른 모집단에서 추출한 표본이라고 간주하고 실습을 진행해보자.\n",
    "\n",
    "이를 위한 가설 수립은 다음과 같이 할 수 있다. \n",
    "\n",
    "#### H0 (귀무가설)= 청년층과 중장년층의 구매 유형 비율은 동일하다.\n",
    "#### H1 (연구가설)= 청년층과 중장년층의 구매 유형 비율은 동일하지 않다."
   ]
  },
  {
   "cell_type": "code",
   "execution_count": 7,
   "metadata": {},
   "outputs": [
    {
     "data": {
      "text/plain": [
       "(8.714970024248375,\n",
       " 0.033330661685866646,\n",
       " 3,\n",
       " array([[ 9., 66., 28., 97.],\n",
       "        [ 9., 66., 28., 97.]]))"
      ]
     },
     "execution_count": 7,
     "metadata": {},
     "output_type": "execute_result"
    }
   ],
   "source": [
    "#1. 모듈 및 데이터 탑재\n",
    "import pandas as pd\n",
    "import numpy as np\n",
    "from scipy import stats\n",
    "df = pd.read_csv('Ashopping.csv', sep=',', encoding='CP949')\n",
    "\n",
    "#2. 청년층, 중장년층 전처리\n",
    "df[\"고객연령대\"] = \"\"\n",
    "df[\"고객연령대\"] = np.where(df[\"고객_나이대\"]<= 5, '1', '2') \n",
    "\n",
    "#3. 두 모집단 랜덤표본추출\n",
    "df1 = df.loc[df.고객연령대=='1']\n",
    "df2 = df.loc[df.고객연령대=='2']\n",
    "df1_sample = df1.sample(200, random_state = 29)\n",
    "df2_sample = df2.sample(200, random_state = 29)\n",
    "df3 = df1_sample.append(df2_sample) \n",
    "\n",
    "#4. 빈도교차표 생성하기\n",
    "X = pd.crosstab(df3.고객연령대, df3.구매유형, margins=False)\n",
    "\n",
    "#5. 카이제곱 동질성 검정하기\n",
    "stats.chi2_contingency(X)"
   ]
  },
  {
   "cell_type": "code",
   "execution_count": 5,
   "metadata": {},
   "outputs": [
    {
     "data": {
      "text/html": [
       "<div>\n",
       "<style scoped>\n",
       "    .dataframe tbody tr th:only-of-type {\n",
       "        vertical-align: middle;\n",
       "    }\n",
       "\n",
       "    .dataframe tbody tr th {\n",
       "        vertical-align: top;\n",
       "    }\n",
       "\n",
       "    .dataframe thead th {\n",
       "        text-align: right;\n",
       "    }\n",
       "</style>\n",
       "<table border=\"1\" class=\"dataframe\">\n",
       "  <thead>\n",
       "    <tr style=\"text-align: right;\">\n",
       "      <th>구매유형</th>\n",
       "      <th>1</th>\n",
       "      <th>2</th>\n",
       "      <th>3</th>\n",
       "      <th>4</th>\n",
       "    </tr>\n",
       "    <tr>\n",
       "      <th>고객연령대</th>\n",
       "      <th></th>\n",
       "      <th></th>\n",
       "      <th></th>\n",
       "      <th></th>\n",
       "    </tr>\n",
       "  </thead>\n",
       "  <tbody>\n",
       "    <tr>\n",
       "      <th>1</th>\n",
       "      <td>10</td>\n",
       "      <td>67</td>\n",
       "      <td>18</td>\n",
       "      <td>105</td>\n",
       "    </tr>\n",
       "    <tr>\n",
       "      <th>2</th>\n",
       "      <td>8</td>\n",
       "      <td>65</td>\n",
       "      <td>38</td>\n",
       "      <td>89</td>\n",
       "    </tr>\n",
       "  </tbody>\n",
       "</table>\n",
       "</div>"
      ],
      "text/plain": [
       "구매유형    1   2   3    4\n",
       "고객연령대                 \n",
       "1      10  67  18  105\n",
       "2       8  65  38   89"
      ]
     },
     "execution_count": 5,
     "metadata": {},
     "output_type": "execute_result"
    }
   ],
   "source": [
    "#1. 빈도교차표 출력하기\n",
    "X"
   ]
  }
 ],
 "metadata": {
  "kernelspec": {
   "display_name": "Python 3",
   "language": "python",
   "name": "python3"
  },
  "language_info": {
   "codemirror_mode": {
    "name": "ipython",
    "version": 3
   },
   "file_extension": ".py",
   "mimetype": "text/x-python",
   "name": "python",
   "nbconvert_exporter": "python",
   "pygments_lexer": "ipython3",
   "version": "3.8.8"
  }
 },
 "nbformat": 4,
 "nbformat_minor": 2
}

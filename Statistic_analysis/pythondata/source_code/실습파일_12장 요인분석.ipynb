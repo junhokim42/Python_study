{
 "cells": [
  {
   "cell_type": "markdown",
   "metadata": {},
   "source": [
    "# 12장 요인분석\n",
    "\n",
    "## 12.2 탐색적 요인분석\n",
    "### 분석 시나리오\n",
    "\n",
    "A쇼핑 고객만족도 서베이를 통해 수집된 데이터에 대해 요인분석을 수행해보자. A쇼핑 고객만족도 조사는 상품품질에서 안내표지판 설명까지 총 10개의 항목으로 실행되었다. 개별 항목들도 중요한 고객만족도 항목들이지만, 보다 효율적인 측정지표 관리를 위해 탐색적 요인분석을 실시하고자 한다. "
   ]
  },
  {
   "cell_type": "code",
   "execution_count": 1,
   "metadata": {},
   "outputs": [
    {
     "name": "stdout",
     "output_type": "stream",
     "text": [
      "요인적재량 :\n",
      "                   0         1\n",
      "상품_품질      0.449335  0.519757\n",
      "상품_다양성     0.320420  0.615774\n",
      "가격_적절성     0.225079  0.709959\n",
      "상품_진열_위치   0.261779  0.734248\n",
      "상품_설명_표시   0.072552  0.754670\n",
      "매장_청결성     0.661093  0.236649\n",
      "공간_편의성     0.609502  0.399518\n",
      "시야_확보성     0.664336  0.212471\n",
      "음향_적절성     0.636674  0.244599\n",
      "안내_표지판_설명  0.790881  0.085513\n",
      "\n",
      "공통성 :\n",
      "                   0\n",
      "상품_품질      0.472049\n",
      "상품_다양성     0.481846\n",
      "가격_적절성     0.554703\n",
      "상품_진열_위치   0.607648\n",
      "상품_설명_표시   0.574791\n",
      "매장_청결성     0.493047\n",
      "공간_편의성     0.531108\n",
      "시야_확보성     0.486487\n",
      "음향_적절성     0.465182\n",
      "안내_표지판_설명  0.632805\n",
      "\n",
      "고유값 :\n",
      "           0\n",
      "0  4.253033\n",
      "1  1.046634\n",
      "2  0.803469\n",
      "3  0.748182\n",
      "4  0.679501\n",
      "5  0.596066\n",
      "6  0.551448\n",
      "7  0.501088\n",
      "8  0.440777\n",
      "9  0.379804\n",
      "\n",
      "요인점수 :\n",
      " [[ 0.45482355  1.31311697]\n",
      " [ 0.04384855 -0.02882105]\n",
      " [-0.54433042  0.04835029]\n",
      " ...\n",
      " [ 0.03251865  0.9035014 ]\n",
      " [-2.41511577 -1.14112745]\n",
      " [ 0.83380422  0.93841954]]\n"
     ]
    }
   ],
   "source": [
    "#1. 모듈 및 데이터 탑재\n",
    "import pandas as pd\n",
    "from factor_analyzer import FactorAnalyzer\n",
    "df = pd.read_csv('Ashopping.csv',sep=',',encoding='CP949') \n",
    "\n",
    "#2. 변수 추출\n",
    "X=df[['상품_품질','상품_다양성','가격_적절성','상품_진열_위치','상품_설명_표시','매장_청결성','공간_편의성','시야_확보성','음향_적절성','안내_표지판_설명']]\n",
    "\n",
    "#3. 탐색적요인분석\n",
    "fa = FactorAnalyzer(method='principal',n_factors=2, rotation='varimax').fit(X)\n",
    "\n",
    "#4. 결과 출력\n",
    "print('요인적재량 :\\n',pd.DataFrame(fa.loadings_, index=X.columns))\n",
    "print('\\n공통성 :\\n', pd.DataFrame(fa.get_communalities(), index=X.columns))\n",
    "ev, v = fa.get_eigenvalues()              \n",
    "print('\\n고유값 :\\n', pd.DataFrame(ev))\n",
    "print('\\n요인점수 :\\n', fa.transform(X.dropna()))"
   ]
  }
 ],
 "metadata": {
  "kernelspec": {
   "display_name": "Python 3",
   "language": "python",
   "name": "python3"
  },
  "language_info": {
   "codemirror_mode": {
    "name": "ipython",
    "version": 3
   },
   "file_extension": ".py",
   "mimetype": "text/x-python",
   "name": "python",
   "nbconvert_exporter": "python",
   "pygments_lexer": "ipython3",
   "version": "3.7.4"
  }
 },
 "nbformat": 4,
 "nbformat_minor": 2
}

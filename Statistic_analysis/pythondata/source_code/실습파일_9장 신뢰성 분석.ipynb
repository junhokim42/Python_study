{
 "cells": [
  {
   "cell_type": "markdown",
   "metadata": {},
   "source": [
    "# 9장. 신뢰성 분석\n",
    "\n",
    "## 9.2 내적일관성 분석\n",
    "### 분석 시나리오\n",
    "\n",
    "A쇼핑에서는 최근 오프라인 매장이 증대함에 따라 고객접점에서의 고객응대가 더욱 중요시 되고 있다. 이에 따라 A쇼핑에서는 매장에서 고객의 직원에 대한 만족도를 평가하고, 이에 따라 적절한 직원교육 체계를 마련하고자 한다. A쇼핑은 우선 직원에 대한 만족도를 평가하기 위해 친절성, 신속성, 책임성, 정확성, 그리고 전문성을 측정하는 측정항목을 개발하여 조사를 실시하였고, 이렇게 5개 항목으로 구성된 직원에 대한 만족도 평가가 신뢰성 있는 조사인지 확인하기 위해 내적일관성 분석을 수행하고자 한다."
   ]
  },
  {
   "cell_type": "code",
   "execution_count": 1,
   "metadata": {},
   "outputs": [
    {
     "data": {
      "text/plain": [
       "(0.8117458883194829, array([0.793, 0.83 ]))"
      ]
     },
     "execution_count": 1,
     "metadata": {},
     "output_type": "execute_result"
    }
   ],
   "source": [
    "#1. 모듈 및 데이터 탑재\n",
    "import pandas as pd\n",
    "import pingouin as pg\n",
    "df = pd.read_csv('Ashopping.csv',sep=',', encoding='CP949')\n",
    "X = df[['친절성', '신속성', '책임성', '정확성', '전문성']]\n",
    "\n",
    "#2. 크론바흐 알파 계수 출력\n",
    "pg.cronbach_alpha(data=X)"
   ]
  },
  {
   "cell_type": "code",
   "execution_count": 2,
   "metadata": {},
   "outputs": [
    {
     "name": "stdout",
     "output_type": "stream",
     "text": [
      "(0.8057989412964606, array([0.785, 0.825]))\n",
      "(0.7836410115861369, array([0.761, 0.805]))\n",
      "(0.7811976111855439, array([0.758, 0.803]))\n",
      "(0.7713180205968042, array([0.747, 0.794]))\n",
      "(0.7341054622297101, array([0.706, 0.76 ]))\n"
     ]
    }
   ],
   "source": [
    "#1 각 변수를 제외한 크론바흐 알파 계수 출력\n",
    "X1 = df[['신속성', '책임성', '정확성', '전문성']]\n",
    "X2 = df[['친절성', '책임성', '정확성', '전문성']]\n",
    "X3 = df[['친절성', '신속성', '정확성', '전문성']]\n",
    "X4 = df[['친절성', '신속성', '책임성', '전문성']]\n",
    "X5 = df[['친절성', '신속성', '책임성', '정확성']]\n",
    "print(pg.cronbach_alpha(data=X1))\n",
    "print(pg.cronbach_alpha(data=X2))\n",
    "print(pg.cronbach_alpha(data=X3))\n",
    "print(pg.cronbach_alpha(data=X4))\n",
    "print(pg.cronbach_alpha(data=X5))"
   ]
  }
 ],
 "metadata": {
  "kernelspec": {
   "display_name": "Python 3",
   "language": "python",
   "name": "python3"
  },
  "language_info": {
   "codemirror_mode": {
    "name": "ipython",
    "version": 3
   },
   "file_extension": ".py",
   "mimetype": "text/x-python",
   "name": "python",
   "nbconvert_exporter": "python",
   "pygments_lexer": "ipython3",
   "version": "3.8.8"
  }
 },
 "nbformat": 4,
 "nbformat_minor": 2
}

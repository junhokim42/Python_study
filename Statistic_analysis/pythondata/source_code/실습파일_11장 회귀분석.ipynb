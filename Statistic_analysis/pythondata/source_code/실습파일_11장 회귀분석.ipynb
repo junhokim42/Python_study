{
 "cells": [
  {
   "cell_type": "markdown",
   "metadata": {},
   "source": [
    "# 11장. 회귀분석\n",
    "\n",
    "## 11.2 단순회귀분석\n",
    "### 분석 시나리오\n",
    "\n",
    "A 쇼핑의 방문빈도와 총 매출액 의 인과관계를 회귀분석을 통해 살펴보자. 이에 대한 귀무가설과 연구가설은 다음과 같이 정의할 수 있다.\n",
    "\n",
    "#### H0 (귀무가설)= 방문빈도는 총 매출액에 영향을 미치지 않는다.\n",
    "#### H1 (연구가설)= 방문빈도는 총 매출액에 영향을 미친다. \n"
   ]
  },
  {
   "cell_type": "code",
   "execution_count": 1,
   "metadata": {},
   "outputs": [
    {
     "data": {
      "text/html": [
       "<table class=\"simpletable\">\n",
       "<caption>OLS Regression Results</caption>\n",
       "<tr>\n",
       "  <th>Dep. Variable:</th>          <td>총_매출액</td>      <th>  R-squared:         </th> <td>   0.398</td> \n",
       "</tr>\n",
       "<tr>\n",
       "  <th>Model:</th>                   <td>OLS</td>       <th>  Adj. R-squared:    </th> <td>   0.398</td> \n",
       "</tr>\n",
       "<tr>\n",
       "  <th>Method:</th>             <td>Least Squares</td>  <th>  F-statistic:       </th> <td>   660.8</td> \n",
       "</tr>\n",
       "<tr>\n",
       "  <th>Date:</th>             <td>Thu, 30 Sep 2021</td> <th>  Prob (F-statistic):</th> <td>3.05e-112</td>\n",
       "</tr>\n",
       "<tr>\n",
       "  <th>Time:</th>                 <td>22:57:23</td>     <th>  Log-Likelihood:    </th> <td> -16921.</td> \n",
       "</tr>\n",
       "<tr>\n",
       "  <th>No. Observations:</th>      <td>  1000</td>      <th>  AIC:               </th> <td>3.385e+04</td>\n",
       "</tr>\n",
       "<tr>\n",
       "  <th>Df Residuals:</th>          <td>   998</td>      <th>  BIC:               </th> <td>3.386e+04</td>\n",
       "</tr>\n",
       "<tr>\n",
       "  <th>Df Model:</th>              <td>     1</td>      <th>                     </th>     <td> </td>    \n",
       "</tr>\n",
       "<tr>\n",
       "  <th>Covariance Type:</th>      <td>nonrobust</td>    <th>                     </th>     <td> </td>    \n",
       "</tr>\n",
       "</table>\n",
       "<table class=\"simpletable\">\n",
       "<tr>\n",
       "      <td></td>         <th>coef</th>     <th>std err</th>      <th>t</th>      <th>P>|t|</th>  <th>[0.025</th>    <th>0.975]</th>  \n",
       "</tr>\n",
       "<tr>\n",
       "  <th>Intercept</th> <td> 1.572e+06</td> <td> 2.74e+05</td> <td>    5.743</td> <td> 0.000</td> <td> 1.03e+06</td> <td> 2.11e+06</td>\n",
       "</tr>\n",
       "<tr>\n",
       "  <th>방문빈도</th>      <td> 2.066e+05</td> <td> 8037.616</td> <td>   25.707</td> <td> 0.000</td> <td> 1.91e+05</td> <td> 2.22e+05</td>\n",
       "</tr>\n",
       "</table>\n",
       "<table class=\"simpletable\">\n",
       "<tr>\n",
       "  <th>Omnibus:</th>       <td>684.213</td> <th>  Durbin-Watson:     </th> <td>   1.972</td> \n",
       "</tr>\n",
       "<tr>\n",
       "  <th>Prob(Omnibus):</th> <td> 0.000</td>  <th>  Jarque-Bera (JB):  </th> <td>17231.472</td>\n",
       "</tr>\n",
       "<tr>\n",
       "  <th>Skew:</th>          <td> 2.760</td>  <th>  Prob(JB):          </th> <td>    0.00</td> \n",
       "</tr>\n",
       "<tr>\n",
       "  <th>Kurtosis:</th>      <td>22.573</td>  <th>  Cond. No.          </th> <td>    54.6</td> \n",
       "</tr>\n",
       "</table><br/><br/>Notes:<br/>[1] Standard Errors assume that the covariance matrix of the errors is correctly specified."
      ],
      "text/plain": [
       "<class 'statsmodels.iolib.summary.Summary'>\n",
       "\"\"\"\n",
       "                            OLS Regression Results                            \n",
       "==============================================================================\n",
       "Dep. Variable:                  총_매출액   R-squared:                       0.398\n",
       "Model:                            OLS   Adj. R-squared:                  0.398\n",
       "Method:                 Least Squares   F-statistic:                     660.8\n",
       "Date:                Thu, 30 Sep 2021   Prob (F-statistic):          3.05e-112\n",
       "Time:                        22:57:23   Log-Likelihood:                -16921.\n",
       "No. Observations:                1000   AIC:                         3.385e+04\n",
       "Df Residuals:                     998   BIC:                         3.386e+04\n",
       "Df Model:                           1                                         \n",
       "Covariance Type:            nonrobust                                         \n",
       "==============================================================================\n",
       "                 coef    std err          t      P>|t|      [0.025      0.975]\n",
       "------------------------------------------------------------------------------\n",
       "Intercept   1.572e+06   2.74e+05      5.743      0.000    1.03e+06    2.11e+06\n",
       "방문빈도        2.066e+05   8037.616     25.707      0.000    1.91e+05    2.22e+05\n",
       "==============================================================================\n",
       "Omnibus:                      684.213   Durbin-Watson:                   1.972\n",
       "Prob(Omnibus):                  0.000   Jarque-Bera (JB):            17231.472\n",
       "Skew:                           2.760   Prob(JB):                         0.00\n",
       "Kurtosis:                      22.573   Cond. No.                         54.6\n",
       "==============================================================================\n",
       "\n",
       "Notes:\n",
       "[1] Standard Errors assume that the covariance matrix of the errors is correctly specified.\n",
       "\"\"\""
      ]
     },
     "execution_count": 1,
     "metadata": {},
     "output_type": "execute_result"
    }
   ],
   "source": [
    "#1. 모듈 및 데이터 탑재\n",
    "import pandas as pd\n",
    "import statsmodels.formula.api as smf\n",
    "df = pd.read_csv('Ashopping.csv', sep=',', encoding='CP949')\n",
    "\n",
    "#2. 단순회귀분석 실행하기\n",
    "model1 = smf.ols(formula = '총_매출액 ~ 방문빈도', data = df).fit( )\n",
    "model1.summary( )"
   ]
  },
  {
   "cell_type": "code",
   "execution_count": 2,
   "metadata": {},
   "outputs": [
    {
     "name": "stdout",
     "output_type": "stream",
     "text": [
      "[ 206622.163 1572126.981]\n",
      " \n",
      "2.066e+05 x + 1.572e+06\n"
     ]
    },
    {
     "data": {
      "text/plain": [
       "[<matplotlib.lines.Line2D at 0x25c2217bd90>]"
      ]
     },
     "execution_count": 2,
     "metadata": {},
     "output_type": "execute_result"
    },
    {
     "data": {
      "image/png": "[encoded data removed]",
      "text/plain": [
       "<Figure size 432x288 with 1 Axes>"
      ]
     },
     "metadata": {
      "needs_background": "light"
     },
     "output_type": "display_data"
    }
   ],
   "source": [
    "#1. 모듈 탑재\n",
    "import numpy as np\n",
    "import matplotlib\n",
    "import matplotlib.pyplot as plt \n",
    "\n",
    "#2. 한글깨짐현상 방지 \n",
    "matplotlib.rcParams['font.family'] = 'Malgun Gothic' \n",
    "\n",
    "#3. 선형회귀선 구하기\n",
    "fit = np.polyfit(df['방문빈도'], df['총_매출액'],1)\n",
    "fit_fn = np.poly1d(fit)\n",
    "print(np.round(fit,3))\n",
    "print(fit_fn)\n",
    "\n",
    "#4. 산점도와 선형회귀선 그리기\n",
    "%matplotlib inline\n",
    "plt.title('단순회귀분석') #차트 제목\n",
    "plt.xlabel('방문빈도') # X축 이름\n",
    "plt.ylabel('총매출액') # Y축 이름\n",
    "plt.plot(df['방문빈도'], df['총_매출액'],'o')\n",
    "plt.plot(df['방문빈도'], fit_fn(df['방문빈도']), 'r')"
   ]
  },
  {
   "cell_type": "markdown",
   "metadata": {},
   "source": [
    "## 11.3 다중회귀분석\n",
    "### 분석 시나리오\n",
    "\n",
    "A쇼핑 데이터에서 서비스만족도, 방문빈도, 구매카테고리 수가 총 매출액에 미치는 영향을 다중회귀분석을 통해 살펴보자. \n",
    "\n",
    "#### H0 (귀무가설)= 서비스 만족도, 방문횟수, 구매카테고리 수는 총 매출액에 영향을 미치지 않는다.\n",
    "#### H1 (연구가설)= 서비스 만족도, 방문횟수, 구매카테고리 수는 총 매출액에 영향을 미친다.\n"
   ]
  },
  {
   "cell_type": "code",
   "execution_count": 3,
   "metadata": {},
   "outputs": [
    {
     "name": "stdout",
     "output_type": "stream",
     "text": [
      "                            OLS Regression Results                            \n",
      "==============================================================================\n",
      "Dep. Variable:                  총_매출액   R-squared:                       0.410\n",
      "Model:                            OLS   Adj. R-squared:                  0.408\n",
      "Method:                 Least Squares   F-statistic:                     230.8\n",
      "Date:                Thu, 30 Sep 2021   Prob (F-statistic):          1.19e-113\n",
      "Time:                        22:57:23   Log-Likelihood:                -16911.\n",
      "No. Observations:                1000   AIC:                         3.383e+04\n",
      "Df Residuals:                     996   BIC:                         3.385e+04\n",
      "Df Model:                           3                                         \n",
      "Covariance Type:            nonrobust                                         \n",
      "==============================================================================\n",
      "                 coef    std err          t      P>|t|      [0.025      0.975]\n",
      "------------------------------------------------------------------------------\n",
      "Intercept   2.033e+06   1.01e+06      2.009      0.045    4.76e+04    4.02e+06\n",
      "서비스_만족도    -5.432e+05   1.52e+05     -3.585      0.000   -8.41e+05   -2.46e+05\n",
      "방문빈도        2.053e+05   8938.286     22.973      0.000    1.88e+05    2.23e+05\n",
      "구매_카테고리_수   5.022e+05    1.6e+05      3.142      0.002    1.89e+05    8.16e+05\n",
      "==============================================================================\n",
      "Omnibus:                      673.428   Durbin-Watson:                   1.967\n",
      "Prob(Omnibus):                  0.000   Jarque-Bera (JB):            16237.956\n",
      "Skew:                           2.711   Prob(JB):                         0.00\n",
      "Kurtosis:                      21.982   Cond. No.                         209.\n",
      "==============================================================================\n",
      "\n",
      "Notes:\n",
      "[1] Standard Errors assume that the covariance matrix of the errors is correctly specified.\n",
      "1.139\n",
      "1.259\n",
      "1.215\n"
     ]
    }
   ],
   "source": [
    "#1. 모듈 및 데이터 탑재\n",
    "import pandas as pd\n",
    "import numpy as np\n",
    "import statsmodels.formula.api as smf\n",
    "from patsy import dmatrices\n",
    "from statsmodels.stats.outliers_influence import variance_inflation_factor\n",
    "df = pd.read_csv('Ashopping.csv', sep=',', encoding='CP949')\n",
    "\n",
    "#2. 다중회귀분석 실행\n",
    "model2 = smf.ols(formula = '총_매출액 ~ 서비스_만족도 + 방문빈도 + 구매_카테고리_수', data = df).fit()\n",
    "print(model2.summary())\n",
    "\n",
    "#3. 다중공선성 확인하기\n",
    "y, X = dmatrices('총_매출액 ~ 서비스_만족도 + 방문빈도 + 구매_카테고리_수', data=df, return_type = 'dataframe')\n",
    "print(np.round(variance_inflation_factor(X.values, 1),3)) #서비스만족도 VIF 값\n",
    "print(np.round(variance_inflation_factor(X.values, 2),3)) #방문빈도 VIF 값\n",
    "print(np.round(variance_inflation_factor(X.values, 3),3)) #구매 카테고리수 VIF 값\n"
   ]
  },
  {
   "cell_type": "markdown",
   "metadata": {},
   "source": [
    "## 11.4 더미변수를 이용한 회귀분석 \n",
    "### 분석 시나리오\n",
    "\n",
    "A쇼핑 데이터에서 구매유형이라는 범주형 데이터를 더미변수화하여 방문빈도를 예측하는 회귀모형을 만들어보자. \n",
    "\n",
    "#### H0 (귀무가설)= 각각의 구매유형은 총 매출액에 영향을 미치지 않는다.\n",
    "#### H1 (연구가설)= 각각의 구매유형은 총 매출액에 영향을 미친다.\n"
   ]
  },
  {
   "cell_type": "code",
   "execution_count": 4,
   "metadata": {},
   "outputs": [
    {
     "name": "stdout",
     "output_type": "stream",
     "text": [
      "     구매유형_2  구매유형_3  구매유형_4\n",
      "0         0       0       1\n",
      "1         0       0       1\n",
      "2         0       0       1\n",
      "3         0       0       1\n",
      "4         1       0       0\n",
      "..      ...     ...     ...\n",
      "995       0       1       0\n",
      "996       1       0       0\n",
      "997       0       0       1\n",
      "998       0       1       0\n",
      "999       0       0       1\n",
      "\n",
      "[1000 rows x 3 columns]\n"
     ]
    },
    {
     "data": {
      "text/html": [
       "<table class=\"simpletable\">\n",
       "<caption>OLS Regression Results</caption>\n",
       "<tr>\n",
       "  <th>Dep. Variable:</th>          <td>방문빈도</td>       <th>  R-squared:         </th> <td>   0.432</td> \n",
       "</tr>\n",
       "<tr>\n",
       "  <th>Model:</th>                   <td>OLS</td>       <th>  Adj. R-squared:    </th> <td>   0.430</td> \n",
       "</tr>\n",
       "<tr>\n",
       "  <th>Method:</th>             <td>Least Squares</td>  <th>  F-statistic:       </th> <td>   252.4</td> \n",
       "</tr>\n",
       "<tr>\n",
       "  <th>Date:</th>             <td>Thu, 30 Sep 2021</td> <th>  Prob (F-statistic):</th> <td>8.42e-122</td>\n",
       "</tr>\n",
       "<tr>\n",
       "  <th>Time:</th>                 <td>22:57:23</td>     <th>  Log-Likelihood:    </th> <td> -4193.5</td> \n",
       "</tr>\n",
       "<tr>\n",
       "  <th>No. Observations:</th>      <td>  1000</td>      <th>  AIC:               </th> <td>   8395.</td> \n",
       "</tr>\n",
       "<tr>\n",
       "  <th>Df Residuals:</th>          <td>   996</td>      <th>  BIC:               </th> <td>   8415.</td> \n",
       "</tr>\n",
       "<tr>\n",
       "  <th>Df Model:</th>              <td>     3</td>      <th>                     </th>     <td> </td>    \n",
       "</tr>\n",
       "<tr>\n",
       "  <th>Covariance Type:</th>      <td>nonrobust</td>    <th>                     </th>     <td> </td>    \n",
       "</tr>\n",
       "</table>\n",
       "<table class=\"simpletable\">\n",
       "<tr>\n",
       "      <td></td>         <th>coef</th>     <th>std err</th>      <th>t</th>      <th>P>|t|</th>  <th>[0.025</th>    <th>0.975]</th>  \n",
       "</tr>\n",
       "<tr>\n",
       "  <th>Intercept</th> <td>   10.0233</td> <td>    2.450</td> <td>    4.092</td> <td> 0.000</td> <td>    5.216</td> <td>   14.830</td>\n",
       "</tr>\n",
       "<tr>\n",
       "  <th>구매유형_2</th>    <td>   36.9736</td> <td>    2.611</td> <td>   14.163</td> <td> 0.000</td> <td>   31.851</td> <td>   42.096</td>\n",
       "</tr>\n",
       "<tr>\n",
       "  <th>구매유형_3</th>    <td>    7.3517</td> <td>    2.792</td> <td>    2.634</td> <td> 0.009</td> <td>    1.874</td> <td>   12.830</td>\n",
       "</tr>\n",
       "<tr>\n",
       "  <th>구매유형_4</th>    <td>    7.6602</td> <td>    2.554</td> <td>    3.000</td> <td> 0.003</td> <td>    2.649</td> <td>   12.671</td>\n",
       "</tr>\n",
       "</table>\n",
       "<table class=\"simpletable\">\n",
       "<tr>\n",
       "  <th>Omnibus:</th>       <td>754.728</td> <th>  Durbin-Watson:     </th> <td>   2.039</td> \n",
       "</tr>\n",
       "<tr>\n",
       "  <th>Prob(Omnibus):</th> <td> 0.000</td>  <th>  Jarque-Bera (JB):  </th> <td>18540.829</td>\n",
       "</tr>\n",
       "<tr>\n",
       "  <th>Skew:</th>          <td> 3.215</td>  <th>  Prob(JB):          </th> <td>    0.00</td> \n",
       "</tr>\n",
       "<tr>\n",
       "  <th>Kurtosis:</th>      <td>23.091</td>  <th>  Cond. No.          </th> <td>    11.5</td> \n",
       "</tr>\n",
       "</table><br/><br/>Notes:<br/>[1] Standard Errors assume that the covariance matrix of the errors is correctly specified."
      ],
      "text/plain": [
       "<class 'statsmodels.iolib.summary.Summary'>\n",
       "\"\"\"\n",
       "                            OLS Regression Results                            \n",
       "==============================================================================\n",
       "Dep. Variable:                   방문빈도   R-squared:                       0.432\n",
       "Model:                            OLS   Adj. R-squared:                  0.430\n",
       "Method:                 Least Squares   F-statistic:                     252.4\n",
       "Date:                Thu, 30 Sep 2021   Prob (F-statistic):          8.42e-122\n",
       "Time:                        22:57:23   Log-Likelihood:                -4193.5\n",
       "No. Observations:                1000   AIC:                             8395.\n",
       "Df Residuals:                     996   BIC:                             8415.\n",
       "Df Model:                           3                                         \n",
       "Covariance Type:            nonrobust                                         \n",
       "==============================================================================\n",
       "                 coef    std err          t      P>|t|      [0.025      0.975]\n",
       "------------------------------------------------------------------------------\n",
       "Intercept     10.0233      2.450      4.092      0.000       5.216      14.830\n",
       "구매유형_2        36.9736      2.611     14.163      0.000      31.851      42.096\n",
       "구매유형_3         7.3517      2.792      2.634      0.009       1.874      12.830\n",
       "구매유형_4         7.6602      2.554      3.000      0.003       2.649      12.671\n",
       "==============================================================================\n",
       "Omnibus:                      754.728   Durbin-Watson:                   2.039\n",
       "Prob(Omnibus):                  0.000   Jarque-Bera (JB):            18540.829\n",
       "Skew:                           3.215   Prob(JB):                         0.00\n",
       "Kurtosis:                      23.091   Cond. No.                         11.5\n",
       "==============================================================================\n",
       "\n",
       "Notes:\n",
       "[1] Standard Errors assume that the covariance matrix of the errors is correctly specified.\n",
       "\"\"\""
      ]
     },
     "execution_count": 4,
     "metadata": {},
     "output_type": "execute_result"
    }
   ],
   "source": [
    "#1. 모듈 및 데이터 탑재\n",
    "import pandas as pd\n",
    "import statsmodels.formula.api as smf\n",
    "df = pd.read_csv('Ashopping.csv', sep=',', encoding='CP949')\n",
    "\n",
    "#2. 더미변수 생성\n",
    "df2=pd.get_dummies(df['구매유형'], prefix='구매유형', drop_first=True)\n",
    "df3=pd.concat([df,df2],axis=1)\n",
    "print(df2)\n",
    "\n",
    "#3. 더미변수를 이용한 회귀분석\n",
    "Model3 = smf.ols(formula = '방문빈도 ~ 구매유형_2 + 구매유형_3  + 구매유형_4', data = df3).fit( )\n",
    "Model3.summary()\n"
   ]
  }
 ],
 "metadata": {
  "kernelspec": {
   "display_name": "Python 3",
   "language": "python",
   "name": "python3"
  },
  "language_info": {
   "codemirror_mode": {
    "name": "ipython",
    "version": 3
   },
   "file_extension": ".py",
   "mimetype": "text/x-python",
   "name": "python",
   "nbconvert_exporter": "python",
   "pygments_lexer": "ipython3",
   "version": "3.8.8"
  }
 },
 "nbformat": 4,
 "nbformat_minor": 2
}

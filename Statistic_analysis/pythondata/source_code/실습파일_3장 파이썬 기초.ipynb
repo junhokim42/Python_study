{
 "cells": [
  {
   "cell_type": "markdown",
   "metadata": {},
   "source": [
    "# 3장 파이썬 기초\n",
    "\n",
    "## 3.2 파이썬 프로그램 기초\n",
    "### [1] 파이썬의 자료형"
   ]
  },
  {
   "cell_type": "markdown",
   "metadata": {},
   "source": [
    "#### 1) 숫자형과 문자형"
   ]
  },
  {
   "cell_type": "code",
   "execution_count": 1,
   "metadata": {},
   "outputs": [
    {
     "name": "stdout",
     "output_type": "stream",
     "text": [
      "<class 'int'> <class 'str'>\n"
     ]
    }
   ],
   "source": [
    "a = 123 \n",
    "b = 'abc' \n",
    "print(type(a), type(b))"
   ]
  },
  {
   "cell_type": "markdown",
   "metadata": {},
   "source": [
    "#### 2) 리스트, 튜플, 딕셔너리"
   ]
  },
  {
   "cell_type": "code",
   "execution_count": 2,
   "metadata": {},
   "outputs": [
    {
     "name": "stdout",
     "output_type": "stream",
     "text": [
      "<class 'list'> <class 'tuple'> <class 'dict'>\n"
     ]
    }
   ],
   "source": [
    "#리스트 생성\n",
    "List = ['a', 'b', 'c', 'd']\n",
    "\n",
    "#튜플 생성\n",
    "Tuple = (1, 2, 3, 4)  \n",
    "\n",
    "#딕셔너리 생성\n",
    "Dic = {'경기도':'일산', '강원도':'원주', '충청도':'천안', '전라도':'전주'}  \n",
    "\n",
    "print(type(List), type(Tuple), type(Dic))\n"
   ]
  },
  {
   "cell_type": "markdown",
   "metadata": {},
   "source": [
    "### [2] 파이썬 제어문\n",
    "#### 1) if 문"
   ]
  },
  {
   "cell_type": "code",
   "execution_count": 3,
   "metadata": {},
   "outputs": [
    {
     "name": "stdout",
     "output_type": "stream",
     "text": [
      "member\n"
     ]
    }
   ],
   "source": [
    "point = 20\n",
    "if point >= 60:\n",
    "    print('vip')\n",
    "else:\n",
    "    print('member')"
   ]
  },
  {
   "cell_type": "markdown",
   "metadata": {},
   "source": [
    "#### 2) for 문"
   ]
  },
  {
   "cell_type": "code",
   "execution_count": 4,
   "metadata": {},
   "outputs": [
    {
     "name": "stdout",
     "output_type": "stream",
     "text": [
      "1\n",
      "2\n",
      "3\n",
      "4\n",
      "5\n"
     ]
    }
   ],
   "source": [
    "for a in [1, 2, 3, 4, 5]: \n",
    "    print(a)"
   ]
  },
  {
   "cell_type": "code",
   "execution_count": 5,
   "metadata": {},
   "outputs": [
    {
     "name": "stdout",
     "output_type": "stream",
     "text": [
      "1\n",
      "3\n",
      "5\n",
      "7\n",
      "9\n"
     ]
    }
   ],
   "source": [
    "for b in range(1, 10, 2): \n",
    "    print(b)"
   ]
  },
  {
   "cell_type": "markdown",
   "metadata": {},
   "source": [
    "#### 3) while 문"
   ]
  },
  {
   "cell_type": "code",
   "execution_count": 6,
   "metadata": {},
   "outputs": [
    {
     "name": "stdout",
     "output_type": "stream",
     "text": [
      "customer_count sum\n",
      "1 1\n",
      "2 3\n",
      "3 6\n",
      "4 10\n",
      "5 15\n",
      "6 21\n"
     ]
    }
   ],
   "source": [
    "#1. 초기화\n",
    "customer_count = 0  \n",
    "sum1 = 0   \n",
    "\n",
    "print('customer_count sum')\n",
    "\n",
    "#2. 조건 검사\n",
    "while (sum1 < 20):  \n",
    "    customer_count = customer_count + 1 \n",
    "    sum1 = sum1 + customer_count  \n",
    "    print(customer_count, sum1)  "
   ]
  },
  {
   "cell_type": "markdown",
   "metadata": {},
   "source": [
    "## 3.3 데이터 분석을 위한 파이썬 라이브러리\n",
    "### [1] 통계분석을 위한 라이브러리\n"
   ]
  },
  {
   "cell_type": "code",
   "execution_count": 34,
   "metadata": {},
   "outputs": [],
   "source": [
    "import pandas as pd"
   ]
  },
  {
   "cell_type": "code",
   "execution_count": 35,
   "metadata": {},
   "outputs": [],
   "source": [
    "from matplotlib import pyplot as plt"
   ]
  },
  {
   "cell_type": "code",
   "execution_count": 36,
   "metadata": {},
   "outputs": [],
   "source": [
    "from pandas import DataFrame"
   ]
  },
  {
   "cell_type": "markdown",
   "metadata": {},
   "source": [
    "### [2] NumPy\n",
    "#### 1) 배열 생성하기"
   ]
  },
  {
   "cell_type": "code",
   "execution_count": 8,
   "metadata": {},
   "outputs": [
    {
     "data": {
      "text/plain": [
       "array([0, 1, 2, 3, 4, 5])"
      ]
     },
     "execution_count": 8,
     "metadata": {},
     "output_type": "execute_result"
    }
   ],
   "source": [
    "import numpy as np\n",
    "data1 = [0, 1, 2, 3, 4 ,5]\n",
    "a1 = np.array(data1) \n",
    "a1"
   ]
  },
  {
   "cell_type": "code",
   "execution_count": 9,
   "metadata": {},
   "outputs": [
    {
     "data": {
      "text/plain": [
       "dtype('int32')"
      ]
     },
     "execution_count": 9,
     "metadata": {},
     "output_type": "execute_result"
    }
   ],
   "source": [
    "a1.dtype"
   ]
  },
  {
   "cell_type": "code",
   "execution_count": 10,
   "metadata": {},
   "outputs": [
    {
     "name": "stdout",
     "output_type": "stream",
     "text": [
      "[1 3 5 7 9]\n",
      "[0 1 2 3 4 5 6 7 8 9]\n"
     ]
    }
   ],
   "source": [
    "#1. 1부터 10까지 범위 안에서 간격 2를 갖는 배열 생성\n",
    "a1 = np.arange(start = 1, stop = 10, step =2)\n",
    "print(a1)\n",
    "\n",
    "#2. 0부터 10까지 범위 안에서 간격 1을 갖는 배열 생성\n",
    "a2= np.arange(10)\n",
    "print(a2)"
   ]
  },
  {
   "cell_type": "markdown",
   "metadata": {},
   "source": [
    "#### 2) 배열 연산하기"
   ]
  },
  {
   "cell_type": "code",
   "execution_count": 11,
   "metadata": {},
   "outputs": [
    {
     "name": "stdout",
     "output_type": "stream",
     "text": [
      "----------덧셈----------\n",
      "[11 16 22 33]\n",
      "----------뺄셈----------\n",
      "[ 9 14 18 27]\n",
      "----------곱셈----------\n",
      "[10 15 40 90]\n",
      "----------나눗셈--------\n",
      "[10. 15. 10. 10.]\n"
     ]
    }
   ],
   "source": [
    "import numpy as np\n",
    "\n",
    "arr1 = np.array([10, 15, 20, 30]) \n",
    "arr2 = np.array([1, 1, 2, 3])\n",
    "\n",
    "print('----------덧셈----------')\n",
    "print(arr1+arr2)\n",
    "print('----------뺄셈----------')\n",
    "print(arr1-arr2)\n",
    "print('----------곱셈----------')\n",
    "print(arr1*arr2)\n",
    "print('----------나눗셈--------')\n",
    "print(arr1/arr2)"
   ]
  },
  {
   "cell_type": "markdown",
   "metadata": {},
   "source": [
    "#### 3) 배열의 인덱싱과 슬라이싱 "
   ]
  },
  {
   "cell_type": "markdown",
   "metadata": {},
   "source": [
    "* 인덱싱 (Indexing)"
   ]
  },
  {
   "cell_type": "code",
   "execution_count": 12,
   "metadata": {},
   "outputs": [
    {
     "data": {
      "text/plain": [
       "array([ 0, 10, 20, 30, 40, 50])"
      ]
     },
     "execution_count": 12,
     "metadata": {},
     "output_type": "execute_result"
    }
   ],
   "source": [
    "import numpy as np\n",
    "\n",
    "a1 = np.array([0, 10, 20, 30, 40, 50])\n",
    "a1"
   ]
  },
  {
   "cell_type": "code",
   "execution_count": 13,
   "metadata": {},
   "outputs": [
    {
     "data": {
      "text/plain": [
       "40"
      ]
     },
     "execution_count": 13,
     "metadata": {},
     "output_type": "execute_result"
    }
   ],
   "source": [
    "a1[4]"
   ]
  },
  {
   "cell_type": "code",
   "execution_count": 14,
   "metadata": {},
   "outputs": [
    {
     "data": {
      "text/plain": [
       "array([ 0, 10, 20, 30, 40, 70])"
      ]
     },
     "execution_count": 14,
     "metadata": {},
     "output_type": "execute_result"
    }
   ],
   "source": [
    "a1[5] = 70 \n",
    "a1"
   ]
  },
  {
   "cell_type": "code",
   "execution_count": 15,
   "metadata": {},
   "outputs": [
    {
     "data": {
      "text/plain": [
       "array([10, 30, 40])"
      ]
     },
     "execution_count": 15,
     "metadata": {},
     "output_type": "execute_result"
    }
   ],
   "source": [
    "a1[[1,3,4]] "
   ]
  },
  {
   "cell_type": "markdown",
   "metadata": {},
   "source": [
    "* 슬라이싱 (Slicing)"
   ]
  },
  {
   "cell_type": "code",
   "execution_count": 16,
   "metadata": {},
   "outputs": [
    {
     "data": {
      "text/plain": [
       "array([0, 1, 2, 3, 4, 5])"
      ]
     },
     "execution_count": 16,
     "metadata": {},
     "output_type": "execute_result"
    }
   ],
   "source": [
    "import numpy as np\n",
    "\n",
    "b1 = np.array([0, 1, 2, 3, 4, 5])\n",
    "b1"
   ]
  },
  {
   "cell_type": "code",
   "execution_count": 17,
   "metadata": {},
   "outputs": [
    {
     "data": {
      "text/plain": [
       "array([1, 2, 3])"
      ]
     },
     "execution_count": 17,
     "metadata": {},
     "output_type": "execute_result"
    }
   ],
   "source": [
    "b1[1:4]"
   ]
  },
  {
   "cell_type": "code",
   "execution_count": 18,
   "metadata": {},
   "outputs": [
    {
     "data": {
      "text/plain": [
       "array([2, 3, 4, 5])"
      ]
     },
     "execution_count": 18,
     "metadata": {},
     "output_type": "execute_result"
    }
   ],
   "source": [
    "b1[2:]"
   ]
  },
  {
   "cell_type": "code",
   "execution_count": 19,
   "metadata": {},
   "outputs": [
    {
     "data": {
      "text/plain": [
       "array([ 0,  1, 25, 35, 45,  5])"
      ]
     },
     "execution_count": 19,
     "metadata": {},
     "output_type": "execute_result"
    }
   ],
   "source": [
    "b1[2:5] = np.array([25, 35, 45])\n",
    "b1"
   ]
  },
  {
   "cell_type": "markdown",
   "metadata": {},
   "source": [
    "#### 4) 배열의 차원 변경하기"
   ]
  },
  {
   "cell_type": "code",
   "execution_count": 20,
   "metadata": {},
   "outputs": [
    {
     "data": {
      "text/plain": [
       "array([[0, 1, 2, 3, 4],\n",
       "       [5, 6, 7, 8, 9]])"
      ]
     },
     "execution_count": 20,
     "metadata": {},
     "output_type": "execute_result"
    }
   ],
   "source": [
    "import numpy as np\n",
    "\n",
    "Vector = np.arange(10)\n",
    "Matrix = Vector.reshape(2,5)\n",
    "Matrix"
   ]
  },
  {
   "cell_type": "code",
   "execution_count": 21,
   "metadata": {},
   "outputs": [
    {
     "data": {
      "text/plain": [
       "array([[0, 1, 2, 3, 4],\n",
       "       [5, 6, 7, 8, 9]])"
      ]
     },
     "execution_count": 21,
     "metadata": {},
     "output_type": "execute_result"
    }
   ],
   "source": [
    "Vector = np.arange(10)\n",
    "Matrix = Vector.reshape(-1 , 5)\n",
    "Matrix"
   ]
  },
  {
   "cell_type": "markdown",
   "metadata": {},
   "source": [
    "### [3] Pandas\n",
    "#### 1) Pandas의 자료구조\n",
    "* Series"
   ]
  },
  {
   "cell_type": "code",
   "execution_count": 22,
   "metadata": {},
   "outputs": [
    {
     "data": {
      "text/plain": [
       "0    1\n",
       "1    2\n",
       "2    3\n",
       "3    4\n",
       "4    5\n",
       "dtype: int64"
      ]
     },
     "execution_count": 22,
     "metadata": {},
     "output_type": "execute_result"
    }
   ],
   "source": [
    "import pandas as pd \n",
    "\n",
    "series = pd.Series([1, 2, 3, 4, 5])\n",
    "series"
   ]
  },
  {
   "cell_type": "markdown",
   "metadata": {},
   "source": [
    "* DataFrame"
   ]
  },
  {
   "cell_type": "code",
   "execution_count": 23,
   "metadata": {},
   "outputs": [
    {
     "data": {
      "text/html": [
       "<div>\n",
       "<style scoped>\n",
       "    .dataframe tbody tr th:only-of-type {\n",
       "        vertical-align: middle;\n",
       "    }\n",
       "\n",
       "    .dataframe tbody tr th {\n",
       "        vertical-align: top;\n",
       "    }\n",
       "\n",
       "    .dataframe thead th {\n",
       "        text-align: right;\n",
       "    }\n",
       "</style>\n",
       "<table border=\"1\" class=\"dataframe\">\n",
       "  <thead>\n",
       "    <tr style=\"text-align: right;\">\n",
       "      <th></th>\n",
       "      <th>고객이름</th>\n",
       "      <th>나이</th>\n",
       "      <th>등급</th>\n",
       "    </tr>\n",
       "  </thead>\n",
       "  <tbody>\n",
       "    <tr>\n",
       "      <th>0</th>\n",
       "      <td>원종호</td>\n",
       "      <td>26</td>\n",
       "      <td>Silver</td>\n",
       "    </tr>\n",
       "    <tr>\n",
       "      <th>1</th>\n",
       "      <td>김수현</td>\n",
       "      <td>23</td>\n",
       "      <td>Gold</td>\n",
       "    </tr>\n",
       "    <tr>\n",
       "      <th>2</th>\n",
       "      <td>김진표</td>\n",
       "      <td>30</td>\n",
       "      <td>Vip</td>\n",
       "    </tr>\n",
       "  </tbody>\n",
       "</table>\n",
       "</div>"
      ],
      "text/plain": [
       "  고객이름  나이      등급\n",
       "0  원종호  26  Silver\n",
       "1  김수현  23    Gold\n",
       "2  김진표  30     Vip"
      ]
     },
     "execution_count": 23,
     "metadata": {},
     "output_type": "execute_result"
    }
   ],
   "source": [
    "import pandas as pd\n",
    "columns_list = ['고객이름', '나이', '등급']\n",
    "value_list = [['원종호', 26, 'Silver'], ['김수현', 23, 'Gold'], ['김진표', 30, 'Vip']]\n",
    "pd.DataFrame(data = value_list, columns = columns_list)"
   ]
  },
  {
   "cell_type": "code",
   "execution_count": 24,
   "metadata": {},
   "outputs": [
    {
     "data": {
      "text/html": [
       "<div>\n",
       "<style scoped>\n",
       "    .dataframe tbody tr th:only-of-type {\n",
       "        vertical-align: middle;\n",
       "    }\n",
       "\n",
       "    .dataframe tbody tr th {\n",
       "        vertical-align: top;\n",
       "    }\n",
       "\n",
       "    .dataframe thead th {\n",
       "        text-align: right;\n",
       "    }\n",
       "</style>\n",
       "<table border=\"1\" class=\"dataframe\">\n",
       "  <thead>\n",
       "    <tr style=\"text-align: right;\">\n",
       "      <th></th>\n",
       "      <th>고객이름</th>\n",
       "      <th>나이</th>\n",
       "      <th>등급</th>\n",
       "    </tr>\n",
       "  </thead>\n",
       "  <tbody>\n",
       "    <tr>\n",
       "      <th>0</th>\n",
       "      <td>원종호</td>\n",
       "      <td>26</td>\n",
       "      <td>Silver</td>\n",
       "    </tr>\n",
       "    <tr>\n",
       "      <th>1</th>\n",
       "      <td>김수현</td>\n",
       "      <td>23</td>\n",
       "      <td>Gold</td>\n",
       "    </tr>\n",
       "    <tr>\n",
       "      <th>2</th>\n",
       "      <td>김진표</td>\n",
       "      <td>30</td>\n",
       "      <td>Vip</td>\n",
       "    </tr>\n",
       "  </tbody>\n",
       "</table>\n",
       "</div>"
      ],
      "text/plain": [
       "  고객이름  나이      등급\n",
       "0  원종호  26  Silver\n",
       "1  김수현  23    Gold\n",
       "2  김진표  30     Vip"
      ]
     },
     "execution_count": 24,
     "metadata": {},
     "output_type": "execute_result"
    }
   ],
   "source": [
    "import pandas as pd\n",
    "\n",
    "dict = {'고객이름' : ['원종호','김수현','김진표'], '나이' : [26,23,30], '등급' : ['Silver','Gold','Vip']} \n",
    "pd.DataFrame(data = dict)"
   ]
  },
  {
   "cell_type": "markdown",
   "metadata": {},
   "source": [
    "#### 2) Pandas를 이용한 기초통계 "
   ]
  },
  {
   "cell_type": "code",
   "execution_count": 25,
   "metadata": {},
   "outputs": [
    {
     "data": {
      "text/html": [
       "<div>\n",
       "<style scoped>\n",
       "    .dataframe tbody tr th:only-of-type {\n",
       "        vertical-align: middle;\n",
       "    }\n",
       "\n",
       "    .dataframe tbody tr th {\n",
       "        vertical-align: top;\n",
       "    }\n",
       "\n",
       "    .dataframe thead th {\n",
       "        text-align: right;\n",
       "    }\n",
       "</style>\n",
       "<table border=\"1\" class=\"dataframe\">\n",
       "  <thead>\n",
       "    <tr style=\"text-align: right;\">\n",
       "      <th></th>\n",
       "      <th>화장품</th>\n",
       "      <th>의류</th>\n",
       "      <th>식음료</th>\n",
       "      <th>전자제품</th>\n",
       "    </tr>\n",
       "  </thead>\n",
       "  <tbody>\n",
       "    <tr>\n",
       "      <th>2014</th>\n",
       "      <td>300</td>\n",
       "      <td>773</td>\n",
       "      <td>362</td>\n",
       "      <td>458</td>\n",
       "    </tr>\n",
       "    <tr>\n",
       "      <th>2015</th>\n",
       "      <td>274</td>\n",
       "      <td>657</td>\n",
       "      <td>131</td>\n",
       "      <td>667</td>\n",
       "    </tr>\n",
       "    <tr>\n",
       "      <th>2016</th>\n",
       "      <td>150</td>\n",
       "      <td>699</td>\n",
       "      <td>593</td>\n",
       "      <td>123</td>\n",
       "    </tr>\n",
       "    <tr>\n",
       "      <th>2017</th>\n",
       "      <td>524</td>\n",
       "      <td>324</td>\n",
       "      <td>348</td>\n",
       "      <td>521</td>\n",
       "    </tr>\n",
       "    <tr>\n",
       "      <th>2018</th>\n",
       "      <td>211</td>\n",
       "      <td>487</td>\n",
       "      <td>98</td>\n",
       "      <td>662</td>\n",
       "    </tr>\n",
       "  </tbody>\n",
       "</table>\n",
       "</div>"
      ],
      "text/plain": [
       "      화장품   의류  식음료  전자제품\n",
       "2014  300  773  362   458\n",
       "2015  274  657  131   667\n",
       "2016  150  699  593   123\n",
       "2017  524  324  348   521\n",
       "2018  211  487   98   662"
      ]
     },
     "execution_count": 25,
     "metadata": {},
     "output_type": "execute_result"
    }
   ],
   "source": [
    "import pandas as pd\n",
    " \n",
    "sales_data = {'화장품':  [300, 274, 150, 524, 211],\n",
    "              '의류': [773, 657, 699, 324, 487],\n",
    "              '식음료': [362, 131, 593, 348, 98],\n",
    "              '전자제품': [458, 667, 123, 521, 662]}\n",
    "index_list = ['2014', '2015', '2016', '2017', '2018']\n",
    "\n",
    "df_store = pd.DataFrame(data = sales_data, index = index_list)\n",
    "df_store"
   ]
  },
  {
   "cell_type": "code",
   "execution_count": 26,
   "metadata": {},
   "outputs": [
    {
     "name": "stdout",
     "output_type": "stream",
     "text": [
      "화장품     291.8\n",
      "의류      588.0\n",
      "식음료     306.4\n",
      "전자제품    486.2\n",
      "dtype: float64\n",
      "화장품     142.246968\n",
      "의류      181.110464\n",
      "식음료     200.721947\n",
      "전자제품    222.213186\n",
      "dtype: float64\n"
     ]
    }
   ],
   "source": [
    "#평균 출력\n",
    "print(df_store.mean()) \n",
    "\n",
    "#표준편차 출력\n",
    "print(df_store.std())"
   ]
  },
  {
   "cell_type": "code",
   "execution_count": 27,
   "metadata": {},
   "outputs": [
    {
     "name": "stdout",
     "output_type": "stream",
     "text": [
      "2014    473.25\n",
      "2015    432.25\n",
      "2016    391.25\n",
      "2017    429.25\n",
      "2018    364.50\n",
      "dtype: float64\n"
     ]
    }
   ],
   "source": [
    "print((df_store.mean(axis=1)))"
   ]
  },
  {
   "cell_type": "code",
   "execution_count": 28,
   "metadata": {},
   "outputs": [
    {
     "data": {
      "text/html": [
       "<div>\n",
       "<style scoped>\n",
       "    .dataframe tbody tr th:only-of-type {\n",
       "        vertical-align: middle;\n",
       "    }\n",
       "\n",
       "    .dataframe tbody tr th {\n",
       "        vertical-align: top;\n",
       "    }\n",
       "\n",
       "    .dataframe thead th {\n",
       "        text-align: right;\n",
       "    }\n",
       "</style>\n",
       "<table border=\"1\" class=\"dataframe\">\n",
       "  <thead>\n",
       "    <tr style=\"text-align: right;\">\n",
       "      <th></th>\n",
       "      <th>화장품</th>\n",
       "      <th>의류</th>\n",
       "      <th>식음료</th>\n",
       "      <th>전자제품</th>\n",
       "    </tr>\n",
       "  </thead>\n",
       "  <tbody>\n",
       "    <tr>\n",
       "      <th>count</th>\n",
       "      <td>5.000000</td>\n",
       "      <td>5.000000</td>\n",
       "      <td>5.000000</td>\n",
       "      <td>5.000000</td>\n",
       "    </tr>\n",
       "    <tr>\n",
       "      <th>mean</th>\n",
       "      <td>291.800000</td>\n",
       "      <td>588.000000</td>\n",
       "      <td>306.400000</td>\n",
       "      <td>486.200000</td>\n",
       "    </tr>\n",
       "    <tr>\n",
       "      <th>std</th>\n",
       "      <td>142.246968</td>\n",
       "      <td>181.110464</td>\n",
       "      <td>200.721947</td>\n",
       "      <td>222.213186</td>\n",
       "    </tr>\n",
       "    <tr>\n",
       "      <th>min</th>\n",
       "      <td>150.000000</td>\n",
       "      <td>324.000000</td>\n",
       "      <td>98.000000</td>\n",
       "      <td>123.000000</td>\n",
       "    </tr>\n",
       "    <tr>\n",
       "      <th>25%</th>\n",
       "      <td>211.000000</td>\n",
       "      <td>487.000000</td>\n",
       "      <td>131.000000</td>\n",
       "      <td>458.000000</td>\n",
       "    </tr>\n",
       "    <tr>\n",
       "      <th>50%</th>\n",
       "      <td>274.000000</td>\n",
       "      <td>657.000000</td>\n",
       "      <td>348.000000</td>\n",
       "      <td>521.000000</td>\n",
       "    </tr>\n",
       "    <tr>\n",
       "      <th>75%</th>\n",
       "      <td>300.000000</td>\n",
       "      <td>699.000000</td>\n",
       "      <td>362.000000</td>\n",
       "      <td>662.000000</td>\n",
       "    </tr>\n",
       "    <tr>\n",
       "      <th>max</th>\n",
       "      <td>524.000000</td>\n",
       "      <td>773.000000</td>\n",
       "      <td>593.000000</td>\n",
       "      <td>667.000000</td>\n",
       "    </tr>\n",
       "  </tbody>\n",
       "</table>\n",
       "</div>"
      ],
      "text/plain": [
       "              화장품          의류         식음료        전자제품\n",
       "count    5.000000    5.000000    5.000000    5.000000\n",
       "mean   291.800000  588.000000  306.400000  486.200000\n",
       "std    142.246968  181.110464  200.721947  222.213186\n",
       "min    150.000000  324.000000   98.000000  123.000000\n",
       "25%    211.000000  487.000000  131.000000  458.000000\n",
       "50%    274.000000  657.000000  348.000000  521.000000\n",
       "75%    300.000000  699.000000  362.000000  662.000000\n",
       "max    524.000000  773.000000  593.000000  667.000000"
      ]
     },
     "execution_count": 28,
     "metadata": {},
     "output_type": "execute_result"
    }
   ],
   "source": [
    "df_store.describe( )"
   ]
  },
  {
   "cell_type": "markdown",
   "metadata": {},
   "source": [
    "#### 3) DataFrame에서 원하는 데이터 추출"
   ]
  },
  {
   "cell_type": "code",
   "execution_count": 29,
   "metadata": {},
   "outputs": [
    {
     "data": {
      "text/html": [
       "<div>\n",
       "<style scoped>\n",
       "    .dataframe tbody tr th:only-of-type {\n",
       "        vertical-align: middle;\n",
       "    }\n",
       "\n",
       "    .dataframe tbody tr th {\n",
       "        vertical-align: top;\n",
       "    }\n",
       "\n",
       "    .dataframe thead th {\n",
       "        text-align: right;\n",
       "    }\n",
       "</style>\n",
       "<table border=\"1\" class=\"dataframe\">\n",
       "  <thead>\n",
       "    <tr style=\"text-align: right;\">\n",
       "      <th></th>\n",
       "      <th>명동점</th>\n",
       "      <th>분당점</th>\n",
       "      <th>송도점</th>\n",
       "      <th>부산점</th>\n",
       "      <th>광주점</th>\n",
       "    </tr>\n",
       "  </thead>\n",
       "  <tbody>\n",
       "    <tr>\n",
       "      <th>2011</th>\n",
       "      <td>59060</td>\n",
       "      <td>9312</td>\n",
       "      <td>NaN</td>\n",
       "      <td>14211</td>\n",
       "      <td>2627</td>\n",
       "    </tr>\n",
       "    <tr>\n",
       "      <th>2012</th>\n",
       "      <td>49296</td>\n",
       "      <td>1267</td>\n",
       "      <td>NaN</td>\n",
       "      <td>11071</td>\n",
       "      <td>4145</td>\n",
       "    </tr>\n",
       "    <tr>\n",
       "      <th>2013</th>\n",
       "      <td>62015</td>\n",
       "      <td>6893</td>\n",
       "      <td>9912.0</td>\n",
       "      <td>11234</td>\n",
       "      <td>4088</td>\n",
       "    </tr>\n",
       "    <tr>\n",
       "      <th>2014</th>\n",
       "      <td>48621</td>\n",
       "      <td>7226</td>\n",
       "      <td>9224.0</td>\n",
       "      <td>15424</td>\n",
       "      <td>4321</td>\n",
       "    </tr>\n",
       "    <tr>\n",
       "      <th>2015</th>\n",
       "      <td>46712</td>\n",
       "      <td>8878</td>\n",
       "      <td>8395.0</td>\n",
       "      <td>12146</td>\n",
       "      <td>4679</td>\n",
       "    </tr>\n",
       "    <tr>\n",
       "      <th>2016</th>\n",
       "      <td>31216</td>\n",
       "      <td>13622</td>\n",
       "      <td>9786.0</td>\n",
       "      <td>39415</td>\n",
       "      <td>4994</td>\n",
       "    </tr>\n",
       "    <tr>\n",
       "      <th>2017</th>\n",
       "      <td>38467</td>\n",
       "      <td>18228</td>\n",
       "      <td>9667.0</td>\n",
       "      <td>57866</td>\n",
       "      <td>5544</td>\n",
       "    </tr>\n",
       "  </tbody>\n",
       "</table>\n",
       "</div>"
      ],
      "text/plain": [
       "        명동점    분당점     송도점    부산점   광주점\n",
       "2011  59060   9312     NaN  14211  2627\n",
       "2012  49296   1267     NaN  11071  4145\n",
       "2013  62015   6893  9912.0  11234  4088\n",
       "2014  48621   7226  9224.0  15424  4321\n",
       "2015  46712   8878  8395.0  12146  4679\n",
       "2016  31216  13622  9786.0  39415  4994\n",
       "2017  38467  18228  9667.0  57866  5544"
      ]
     },
     "execution_count": 29,
     "metadata": {},
     "output_type": "execute_result"
    }
   ],
   "source": [
    "import pandas as pd\n",
    "import numpy as np\n",
    "\n",
    "dep_data = {'명동점': [59060, 49296, 62015, 48621, 46712, 31216, 38467],\n",
    "            '분당점': [9312, 1267, 6893, 7226, 8878, 13622, 18228],\n",
    "            '광주점': [2627, 4145, 4088, 4321, 4679, 4994, 5544],\n",
    "            '부산점': [14211, 11071, 11234, 15424, 12146, 39415, 57866],\n",
    "            '송도점': [np.nan,np.nan, 9912, 9224, 8395, 9786, 9667]}\n",
    "index_list = ['2011', '2012', '2013', '2014', '2015', '2016', '2017']\n",
    "\n",
    "df_store = pd.DataFrame(dep_data, index = index_list)\n",
    "df_store"
   ]
  },
  {
   "cell_type": "code",
   "execution_count": 30,
   "metadata": {},
   "outputs": [
    {
     "data": {
      "text/html": [
       "<div>\n",
       "<style scoped>\n",
       "    .dataframe tbody tr th:only-of-type {\n",
       "        vertical-align: middle;\n",
       "    }\n",
       "\n",
       "    .dataframe tbody tr th {\n",
       "        vertical-align: top;\n",
       "    }\n",
       "\n",
       "    .dataframe thead th {\n",
       "        text-align: right;\n",
       "    }\n",
       "</style>\n",
       "<table border=\"1\" class=\"dataframe\">\n",
       "  <thead>\n",
       "    <tr style=\"text-align: right;\">\n",
       "      <th></th>\n",
       "      <th>명동점</th>\n",
       "      <th>분당점</th>\n",
       "      <th>송도점</th>\n",
       "      <th>부산점</th>\n",
       "      <th>광주점</th>\n",
       "    </tr>\n",
       "  </thead>\n",
       "  <tbody>\n",
       "    <tr>\n",
       "      <th>2011</th>\n",
       "      <td>59060</td>\n",
       "      <td>9312</td>\n",
       "      <td>NaN</td>\n",
       "      <td>14211</td>\n",
       "      <td>2627</td>\n",
       "    </tr>\n",
       "    <tr>\n",
       "      <th>2012</th>\n",
       "      <td>49296</td>\n",
       "      <td>1267</td>\n",
       "      <td>NaN</td>\n",
       "      <td>11071</td>\n",
       "      <td>4145</td>\n",
       "    </tr>\n",
       "  </tbody>\n",
       "</table>\n",
       "</div>"
      ],
      "text/plain": [
       "        명동점   분당점  송도점    부산점   광주점\n",
       "2011  59060  9312  NaN  14211  2627\n",
       "2012  49296  1267  NaN  11071  4145"
      ]
     },
     "execution_count": 30,
     "metadata": {},
     "output_type": "execute_result"
    }
   ],
   "source": [
    "df_store[0:2]"
   ]
  },
  {
   "cell_type": "code",
   "execution_count": 31,
   "metadata": {},
   "outputs": [
    {
     "data": {
      "text/plain": [
       "명동점    31216.0\n",
       "분당점    13622.0\n",
       "송도점     9786.0\n",
       "부산점    39415.0\n",
       "광주점     4994.0\n",
       "Name: 2016, dtype: float64"
      ]
     },
     "execution_count": 31,
     "metadata": {},
     "output_type": "execute_result"
    }
   ],
   "source": [
    "df_store.loc['2016']"
   ]
  },
  {
   "cell_type": "code",
   "execution_count": 32,
   "metadata": {},
   "outputs": [
    {
     "data": {
      "text/plain": [
       "2011    59060\n",
       "2012    49296\n",
       "2013    62015\n",
       "2014    48621\n",
       "2015    46712\n",
       "2016    31216\n",
       "2017    38467\n",
       "Name: 명동점, dtype: int64"
      ]
     },
     "execution_count": 32,
     "metadata": {},
     "output_type": "execute_result"
    }
   ],
   "source": [
    "df_store['명동점']"
   ]
  },
  {
   "cell_type": "code",
   "execution_count": 33,
   "metadata": {},
   "outputs": [
    {
     "data": {
      "text/plain": [
       "2013    62015\n",
       "2014    48621\n",
       "2015    46712\n",
       "Name: 명동점, dtype: int64"
      ]
     },
     "execution_count": 33,
     "metadata": {},
     "output_type": "execute_result"
    }
   ],
   "source": [
    "df_store['명동점']['2013':'2015']"
   ]
  }
 ],
 "metadata": {
  "kernelspec": {
   "display_name": "Python 3",
   "language": "python",
   "name": "python3"
  },
  "language_info": {
   "codemirror_mode": {
    "name": "ipython",
    "version": 3
   },
   "file_extension": ".py",
   "mimetype": "text/x-python",
   "name": "python",
   "nbconvert_exporter": "python",
   "pygments_lexer": "ipython3",
   "version": "3.8.8"
  }
 },
 "nbformat": 4,
 "nbformat_minor": 2
}

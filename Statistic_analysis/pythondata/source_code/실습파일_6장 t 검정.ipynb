{
 "cells": [
  {
   "cell_type": "markdown",
   "metadata": {},
   "source": [
    "# 6장 t 검정\n",
    "\n",
    "## 6.2 일표본 t-검정\n",
    "### 분석 시나리오\n",
    "\n",
    "작년 A쇼핑의 VIP 고객들의 평균 구매액은 약 700만원 이었으며,\n",
    "이에 A쇼핑은 올해 VIP 그룹 고객들의 평균 구매액 목표치를 10% 성장한 770만원으로 결정한바 있다.\n",
    "올해 VIP 고객들의 평균 구매액 목표치인 770만원을 달성하였는지 판단하기 위해 일표본 t-검정을 통해 검정해 보고자 한다.\n",
    "\n",
    "#### H0 (귀무가설)= A쇼핑 VIP고객들의 총 매출액 평균은  7,700,000원이다.\n",
    "#### H1 (연구가설)= A쇼핑 VIP 고객들의 총 매출액 평균은  7,700,000원이 아니다.\n"
   ]
  },
  {
   "cell_type": "code",
   "execution_count": 1,
   "metadata": {},
   "outputs": [
    {
     "name": "stdout",
     "output_type": "stream",
     "text": [
      "총매출액 평균 :  7068689.76\n",
      "Ttest_1sampResult(statistic=-2.8657430145836007, pvalue=0.00424758614832654)\n"
     ]
    }
   ],
   "source": [
    "#1. 모듈 및 데이터 탑재\n",
    "import pandas as pd\n",
    "from scipy import stats\n",
    "df = pd.read_csv('Ashopping.csv',sep=',', encoding='CP949')\n",
    "\n",
    "#2. 총매출액 평균 및 일표본 t-검정 \n",
    "print('총매출액 평균 : ',df.총_매출액.mean())\n",
    "print(stats.ttest_1samp(df['총_매출액'], 7700000))"
   ]
  },
  {
   "cell_type": "markdown",
   "metadata": {},
   "source": [
    "## 6.3 독립표본 t-검정\n",
    "### 분석 시나리오\n",
    "\n",
    "A쇼핑의 마케팅 부서는 콜센터를 통해 접수된 클레임고객에 대한 특별한 마케팅을 기획하고자 한다.\n",
    "클레임고객은 상대적으로 매장을 찾는 횟수가 적어져 이탈위험도가 높을 것이라고 예상되기 때문이다.\n",
    "이를 위해 클레임 고객과 비클레임 고객간의 매장 방문 횟수가 실제로 차이가 있는지를 먼저 검증해야 한다.\n",
    "\n",
    "#### H0 (귀무가설)= A쇼핑 클레임고객들과 비클레임 고객들의 방문횟수 차이는 없다.\n",
    "#### H1 (연구가설)= A쇼핑 클레임고객들과 비클레임 고객들의 방문횟수 차이는 있다.\n"
   ]
  },
  {
   "cell_type": "code",
   "execution_count": 2,
   "metadata": {},
   "outputs": [
    {
     "data": {
      "text/plain": [
       "BartlettResult(statistic=13.626177910965525, pvalue=0.00022305349806448475)"
      ]
     },
     "execution_count": 2,
     "metadata": {},
     "output_type": "execute_result"
    }
   ],
   "source": [
    "#1. 모듈 및 데이터 탑재\n",
    "import pandas as pd\n",
    "from scipy import stats\n",
    "import numpy as np\n",
    "df = pd.read_csv('Ashopping.csv', sep=',', encoding='CP949')\n",
    "\n",
    "#2. 등분산검정\n",
    "no_claim = df[df.클레임접수여부== 0]\n",
    "df2 = np.array(no_claim.방문빈도)\n",
    "claim = df[df.클레임접수여부== 1]\n",
    "df3 = np.array(claim.방문빈도)\n",
    "stats.bartlett(df2,df3)"
   ]
  },
  {
   "cell_type": "code",
   "execution_count": 3,
   "metadata": {},
   "outputs": [
    {
     "name": "stdout",
     "output_type": "stream",
     "text": [
      "Ttest_indResult(statistic=2.595726838875684, pvalue=0.009577734932789503)\n",
      "클레임 접수여부(0) 고객 평균방문빈도 :  28.184842883548985\n",
      "클레임 접수여부(1) 고객 평균방문빈도 :  24.736383442265794\n"
     ]
    }
   ],
   "source": [
    "#1. 독립표본 t-검정 및 방문빈도 평균\n",
    "print(stats.ttest_ind(df2, df3, equal_var=False))\n",
    "print('클레임 접수여부(0) 고객 평균방문빈도 : ',no_claim.방문빈도.mean())\n",
    "print('클레임 접수여부(1) 고객 평균방문빈도 : ',claim.방문빈도.mean())"
   ]
  },
  {
   "cell_type": "markdown",
   "metadata": {},
   "source": [
    "## 6.4 쌍체표본 t-검정\n",
    "### 분석 시나리오\n",
    "\n",
    "A쇼핑 마케팅 팀에서는 그 동안 단순 포인트 적립 및 결제 시 차감 사용 방식으로 운영되어온\n",
    "멤버십 제도를 등급별 사은품 및 쿠폰 지급 기능이 추가된 전략적인 로열티 프로그램으로 개선하였다.\n",
    "이를 통한 고객들의 로열티 프로그램 만족도의 변화가 통계적으로 유의한 지 알아보기 위해 고객들의\n",
    "신규 멤버십 프로그램 도입 전과 도입 후의 고객만족도에 대한 쌍체표본 t-검정을 수행하고자 한다. \n",
    "\n",
    "#### H0 (귀무가설)= A쇼핑 고객들의 멤버십프로그램 도입 전 만족도와 도입 후 만족도의 차이는 없다.\n",
    "#### H1 (연구가설)= A쇼핑 고객들의 멤버십프로그램 도입 전 만족도와 도입 후 만족도의 차이는 있다."
   ]
  },
  {
   "cell_type": "code",
   "execution_count": 4,
   "metadata": {},
   "outputs": [
    {
     "data": {
      "text/plain": [
       "Ttest_relResult(statistic=29.560410783358122, pvalue=1.7319140513197275e-138)"
      ]
     },
     "execution_count": 4,
     "metadata": {},
     "output_type": "execute_result"
    }
   ],
   "source": [
    "#1. 모듈 및 데이터 탑재\n",
    "import pandas as pd\n",
    "from scipy import stats\n",
    "df = pd.read_csv('Ashopping.csv', sep=',', encoding='CP949')\n",
    "\n",
    "#2. 쌍체표본 t-검정 \n",
    "stats.ttest_rel(df['멤버쉽_프로그램_가입후_만족도'],df['멤버쉽_프로그램_가입전_만족도'])"
   ]
  }
 ],
 "metadata": {
  "kernelspec": {
   "display_name": "Python 3",
   "language": "python",
   "name": "python3"
  },
  "language_info": {
   "codemirror_mode": {
    "name": "ipython",
    "version": 3
   },
   "file_extension": ".py",
   "mimetype": "text/x-python",
   "name": "python",
   "nbconvert_exporter": "python",
   "pygments_lexer": "ipython3",
   "version": "3.8.8"
  }
 },
 "nbformat": 4,
 "nbformat_minor": 2
}
